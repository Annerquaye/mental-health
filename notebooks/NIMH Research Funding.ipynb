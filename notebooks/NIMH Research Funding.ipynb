{
 "cells": [
  {
   "cell_type": "code",
   "execution_count": 1,
   "id": "1923ff27",
   "metadata": {},
   "outputs": [
    {
     "name": "stderr",
     "output_type": "stream",
     "text": [
      "/Users/richardabbey/.pyenv/versions/3.9.7/lib/python3.9/site-packages/pandas/compat/__init__.py:124: UserWarning: Could not import the lzma module. Your installed Python is incomplete. Attempting to use lzma compression will result in a RuntimeError.\n",
      "  warnings.warn(msg)\n"
     ]
    }
   ],
   "source": [
    "import pandas as pd\n",
    "import glob\n",
    "import os\n",
    "import numpy as np\n",
    "from datetime import datetime\n",
    "import warnings\n",
    "import altair as alt"
   ]
  },
  {
   "cell_type": "code",
   "execution_count": 2,
   "id": "f1594339",
   "metadata": {},
   "outputs": [],
   "source": [
    "import time"
   ]
  },
  {
   "cell_type": "markdown",
   "id": "43062d9f",
   "metadata": {},
   "source": [
    "The National Health Institute publishes data on grants awarded by institutes under it or affiliated to it [here](https://reporter.nih.gov/exporter/projects). The [data dictionary](https://grants.nih.gov/grants/acronym_list.htm) also provides a list of the institutes that awarded these grants. The acronym list is useful to helping narrow the data to the [National Mental Health Institute](https://www.nimh.nih.gov/)"
   ]
  },
  {
   "cell_type": "code",
   "execution_count": 3,
   "id": "2145dfd4",
   "metadata": {},
   "outputs": [],
   "source": [
    "# # path = r'/Users/richardabbey/Desktop/nimh' # paths where files are located\n",
    "# all_files = glob.glob(os.path.join(path , \"*.csv\")) \n",
    "# li = []\n",
    "\n",
    "# for filename in all_files:\n",
    "#     df = pd.read_csv(filename, index_col=None, header=0, usecols=['ORG_NAME', 'ORG_STATE', 'PROJECT_START', 'PROJECT_END', 'TOTAL_COST','ADMINISTERING_IC'], encoding='utf-8', encoding_errors='ignore', low_memory=False)\n",
    "#     li.append(df)\n",
    "\n",
    "# frame = pd.concat(li, axis=0, ignore_index=True)"
   ]
  },
  {
   "cell_type": "code",
   "execution_count": 4,
   "id": "976f0c9c",
   "metadata": {},
   "outputs": [],
   "source": [
    "cleanGrants = pd.read_csv(\"national-health-grants-csv.csv\")"
   ]
  },
  {
   "cell_type": "code",
   "execution_count": 5,
   "id": "8c77e5db",
   "metadata": {},
   "outputs": [],
   "source": [
    "#Filtering for only grants awarded by National Mental Health Institute\n",
    "mentalHealthGrants = cleanGrants[cleanGrants.ADMINISTERING_IC == 'MH']"
   ]
  },
  {
   "cell_type": "markdown",
   "id": "68f19f03",
   "metadata": {},
   "source": [
    "Importing a csv to copy the list of Historically Black Universities"
   ]
  },
  {
   "cell_type": "code",
   "execution_count": 6,
   "id": "0495d02b",
   "metadata": {},
   "outputs": [],
   "source": [
    "df = pd.read_csv(\"hbcus-csv.csv\")"
   ]
  },
  {
   "cell_type": "code",
   "execution_count": 7,
   "id": "931f3d38",
   "metadata": {},
   "outputs": [],
   "source": [
    "df.Institution = df.Institution.str.upper()"
   ]
  },
  {
   "cell_type": "code",
   "execution_count": 8,
   "id": "632c999f",
   "metadata": {},
   "outputs": [
    {
     "data": {
      "text/plain": [
       "MH    127113\n",
       "Name: ADMINISTERING_IC, dtype: int64"
      ]
     },
     "execution_count": 8,
     "metadata": {},
     "output_type": "execute_result"
    }
   ],
   "source": [
    "mentalHealthGrants.ADMINISTERING_IC.value_counts()"
   ]
  },
  {
   "cell_type": "code",
   "execution_count": 9,
   "id": "24ff6452",
   "metadata": {},
   "outputs": [
    {
     "data": {
      "text/plain": [
       "array(['ALABAMA A&M UNIVERSITY', 'ALABAMA STATE UNIVERSITY',\n",
       "       'ALBANY STATE UNIVERSITY', 'ALCORN STATE UNIVERSITY',\n",
       "       'ALLEN UNIVERSITY', 'AMERICAN BAPTIST COLLEGE',\n",
       "       'UNIVERSITY OF ARKANSAS AT PINE BLUFF', 'ARKANSAS BAPTIST COLLEGE',\n",
       "       'BARBER–SCOTIA COLLEGE', 'BENEDICT COLLEGE', 'BENNETT COLLEGE',\n",
       "       'BETHUNE–COOKMAN UNIVERSITY', 'BISHOP STATE COMMUNITY COLLEGE',\n",
       "       'BLUEFIELD STATE COLLEGE', 'BOWIE STATE UNIVERSITY',\n",
       "       'CENTRAL STATE UNIVERSITY', 'CHEYNEY UNIVERSITY OF PENNSYLVANIA',\n",
       "       'CLAFLIN UNIVERSITY', 'CLARK ATLANTA UNIVERSITY',\n",
       "       'CLINTON COLLEGE', 'COAHOMA COMMUNITY COLLEGE',\n",
       "       'COPPIN STATE UNIVERSITY', 'DELAWARE STATE UNIVERSITY',\n",
       "       'DENMARK TECHNICAL COLLEGE', 'DILLARD UNIVERSITY',\n",
       "       'UNIVERSITY OF THE DISTRICT OF COLUMBIA',\n",
       "       'EDWARD WATERS UNIVERSITY', 'ELIZABETH CITY STATE UNIVERSITY',\n",
       "       'FAYETTEVILLE STATE UNIVERSITY', 'FISK UNIVERSITY',\n",
       "       'FLORIDA A&M UNIVERSITY', 'FLORIDA MEMORIAL UNIVERSITY',\n",
       "       'FORT VALLEY STATE UNIVERSITY', 'GADSDEN STATE COMMUNITY COLLEGE',\n",
       "       'GRAMBLING STATE UNIVERSITY', 'HAMPTON UNIVERSITY',\n",
       "       'HARRIS–STOWE STATE UNIVERSITY',\n",
       "       'HINDS COMMUNITY COLLEGE AT UTICA', 'HOWARD UNIVERSITY',\n",
       "       'HUSTON–TILLOTSON UNIVERSITY',\n",
       "       'INTERDENOMINATIONAL THEOLOGICAL CENTER',\n",
       "       'J. F. DRAKE STATE TECHNICAL COLLEGE', 'JACKSON STATE UNIVERSITY',\n",
       "       'JARVIS CHRISTIAN COLLEGE', 'JOHNSON C. SMITH UNIVERSITY',\n",
       "       'KENTUCKY STATE UNIVERSITY', 'KNOXVILLE COLLEGE', 'LANE COLLEGE',\n",
       "       'LANGSTON UNIVERSITY', 'LAWSON STATE COMMUNITY COLLEGE',\n",
       "       'LEMOYNE-OWEN COLLEGE', 'LINCOLN UNIVERSITY',\n",
       "       'LIVINGSTONE COLLEGE', 'UNIVERSITY OF MARYLAND EASTERN SHORE',\n",
       "       'MEHARRY MEDICAL COLLEGE', 'MILES COLLEGE',\n",
       "       'MISSISSIPPI VALLEY STATE UNIVERSITY', 'MOREHOUSE COLLEGE',\n",
       "       'MOREHOUSE SCHOOL OF MEDICINE', 'MORGAN STATE UNIVERSITY',\n",
       "       'MORRIS BROWN COLLEGE', 'MORRIS COLLEGE',\n",
       "       'NORFOLK STATE UNIVERSITY',\n",
       "       'NORTH CAROLINA AGRICULTURAL & TECHNICAL STATE UNIVERSITY',\n",
       "       'NORTH CAROLINA CENTRAL UNIVERSITY', 'OAKWOOD UNIVERSITY',\n",
       "       'PAINE COLLEGE', 'PAUL QUINN COLLEGE',\n",
       "       'PAYNE THEOLOGICAL SEMINARY', 'PHILANDER SMITH COLLEGE',\n",
       "       'PRAIRIE VIEW A&M UNIVERSITY', 'RUST COLLEGE',\n",
       "       'SAVANNAH STATE UNIVERSITY', 'SELMA UNIVERSITY', 'SHAW UNIVERSITY',\n",
       "       'SHORTER COLLEGE', 'SHELTON STATE COMMUNITY COLLEGE',\n",
       "       'SIMMONS COLLEGE', 'SOUTH CAROLINA STATE UNIVERSITY',\n",
       "       'SOUTHERN UNIVERSITY AT NEW ORLEANS',\n",
       "       'SOUTHERN UNIVERSITY AT SHREVEPORT',\n",
       "       'SOUTHERN UNIVERSITY AND A&M COLLEGE',\n",
       "       'SOUTHWESTERN CHRISTIAN COLLEGE', 'SPELMAN COLLEGE',\n",
       "       \"ST. AUGUSTINE'S UNIVERSITY\", \"ST. PHILIP'S COLLEGE\",\n",
       "       'STILLMAN COLLEGE', 'TALLADEGA COLLEGE',\n",
       "       'TENNESSEE STATE UNIVERSITY', 'TEXAS COLLEGE',\n",
       "       'TEXAS SOUTHERN UNIVERSITY', 'TOUGALOO COLLEGE',\n",
       "       'TRENHOLM STATE COMMUNITY COLLEGE', 'TUSKEGEE UNIVERSITY',\n",
       "       'UNIVERSITY OF THE VIRGIN ISLANDS', 'VIRGINIA STATE UNIVERSITY',\n",
       "       'VIRGINIA UNION UNIVERSITY', 'VIRGINIA UNIVERSITY OF LYNCHBURG',\n",
       "       'VOORHEES COLLEGE', 'WEST VIRGINIA STATE UNIVERSITY',\n",
       "       'WILBERFORCE UNIVERSITY', 'WILEY COLLEGE',\n",
       "       'WINSTON-SALEM STATE UNIVERSITY', 'XAVIER UNIVERSITY OF LOUISIANA'],\n",
       "      dtype=object)"
      ]
     },
     "execution_count": 9,
     "metadata": {},
     "output_type": "execute_result"
    }
   ],
   "source": [
    "# Getting Unique names of HBCUs\n",
    "df.Institution.unique()"
   ]
  },
  {
   "cell_type": "code",
   "execution_count": 10,
   "id": "5259b1ed",
   "metadata": {},
   "outputs": [],
   "source": [
    "blackUniversities = ['ALABAMA A&M UNIVERSITY', 'ALABAMA STATE UNIVERSITY',\n",
    "       'ALBANY STATE UNIVERSITY', 'ALCORN STATE UNIVERSITY',\n",
    "       'ALLEN UNIVERSITY', 'AMERICAN BAPTIST COLLEGE',\n",
    "       'UNIVERSITY OF ARKANSAS AT PINE BLUFF', 'ARKANSAS BAPTIST COLLEGE',\n",
    "       'BARBER–SCOTIA COLLEGE', 'BENEDICT COLLEGE', 'BENNETT COLLEGE',\n",
    "       'BETHUNE–COOKMAN UNIVERSITY', 'BISHOP STATE COMMUNITY COLLEGE',\n",
    "       'BLUEFIELD STATE COLLEGE', 'BOWIE STATE UNIVERSITY',\n",
    "       'CENTRAL STATE UNIVERSITY', 'CHEYNEY UNIVERSITY OF PENNSYLVANIA',\n",
    "       'CLAFLIN UNIVERSITY', 'CLARK ATLANTA UNIVERSITY',\n",
    "       'CLINTON COLLEGE', 'COAHOMA COMMUNITY COLLEGE',\n",
    "       'COPPIN STATE UNIVERSITY', 'DELAWARE STATE UNIVERSITY',\n",
    "       'DENMARK TECHNICAL COLLEGE', 'DILLARD UNIVERSITY',\n",
    "       'UNIVERSITY OF THE DISTRICT OF COLUMBIA',\n",
    "       'EDWARD WATERS UNIVERSITY', 'ELIZABETH CITY STATE UNIVERSITY',\n",
    "       'FAYETTEVILLE STATE UNIVERSITY', 'FISK UNIVERSITY',\n",
    "       'FLORIDA A&M UNIVERSITY', 'FLORIDA MEMORIAL UNIVERSITY',\n",
    "       'FORT VALLEY STATE UNIVERSITY', 'GADSDEN STATE COMMUNITY COLLEGE',\n",
    "       'GRAMBLING STATE UNIVERSITY', 'HAMPTON UNIVERSITY',\n",
    "       'HARRIS–STOWE STATE UNIVERSITY',\n",
    "       'HINDS COMMUNITY COLLEGE AT UTICA', 'HOWARD UNIVERSITY',\n",
    "       'HUSTON–TILLOTSON UNIVERSITY',\n",
    "       'INTERDENOMINATIONAL THEOLOGICAL CENTER',\n",
    "       'J. F. DRAKE STATE TECHNICAL COLLEGE', 'JACKSON STATE UNIVERSITY',\n",
    "       'JARVIS CHRISTIAN COLLEGE', 'JOHNSON C. SMITH UNIVERSITY',\n",
    "       'KENTUCKY STATE UNIVERSITY', 'KNOXVILLE COLLEGE', 'LANE COLLEGE',\n",
    "       'LANGSTON UNIVERSITY', 'LAWSON STATE COMMUNITY COLLEGE',\n",
    "       'LEMOYNE-OWEN COLLEGE', 'LINCOLN UNIVERSITY',\n",
    "       'LIVINGSTONE COLLEGE', 'UNIVERSITY OF MARYLAND EASTERN SHORE',\n",
    "       'MEHARRY MEDICAL COLLEGE', 'MILES COLLEGE',\n",
    "       'MISSISSIPPI VALLEY STATE UNIVERSITY', 'MOREHOUSE COLLEGE',\n",
    "       'MOREHOUSE SCHOOL OF MEDICINE', 'MORGAN STATE UNIVERSITY',\n",
    "       'MORRIS BROWN COLLEGE', 'MORRIS COLLEGE',\n",
    "       'NORFOLK STATE UNIVERSITY',\n",
    "       'NORTH CAROLINA AGRICULTURAL & TECHNICAL STATE UNIVERSITY',\n",
    "       'NORTH CAROLINA CENTRAL UNIVERSITY', 'OAKWOOD UNIVERSITY',\n",
    "       'PAINE COLLEGE', 'PAUL QUINN COLLEGE',\n",
    "       'PAYNE THEOLOGICAL SEMINARY', 'PHILANDER SMITH COLLEGE',\n",
    "       'PRAIRIE VIEW A&M UNIVERSITY', 'RUST COLLEGE',\n",
    "       'SAVANNAH STATE UNIVERSITY', 'SELMA UNIVERSITY', 'SHAW UNIVERSITY',\n",
    "       'SHORTER COLLEGE', 'SHELTON STATE COMMUNITY COLLEGE',\n",
    "       'SIMMONS COLLEGE', 'SOUTH CAROLINA STATE UNIVERSITY',\n",
    "       'SOUTHERN UNIVERSITY AT NEW ORLEANS',\n",
    "       'SOUTHERN UNIVERSITY AT SHREVEPORT',\n",
    "       'SOUTHERN UNIVERSITY AND A&M COLLEGE',\n",
    "       'SOUTHWESTERN CHRISTIAN COLLEGE', 'SPELMAN COLLEGE',\n",
    "       \"ST. AUGUSTINE'S UNIVERSITY\", \"ST. PHILIP'S COLLEGE\",\n",
    "       'STILLMAN COLLEGE', 'TALLADEGA COLLEGE',\n",
    "       'TENNESSEE STATE UNIVERSITY', 'TEXAS COLLEGE',\n",
    "       'TEXAS SOUTHERN UNIVERSITY', 'TOUGALOO COLLEGE',\n",
    "       'TRENHOLM STATE COMMUNITY COLLEGE', 'TUSKEGEE UNIVERSITY',\n",
    "       'UNIVERSITY OF THE VIRGIN ISLANDS', 'VIRGINIA STATE UNIVERSITY',\n",
    "       'VIRGINIA UNION UNIVERSITY', 'VIRGINIA UNIVERSITY OF LYNCHBURG',\n",
    "       'VOORHEES COLLEGE', 'WEST VIRGINIA STATE UNIVERSITY',\n",
    "       'WILBERFORCE UNIVERSITY', 'WILEY COLLEGE',\n",
    "       'WINSTON-SALEM STATE UNIVERSITY', 'XAVIER UNIVERSITY OF LOUISIANA']"
   ]
  },
  {
   "cell_type": "code",
   "execution_count": 11,
   "id": "3c1bf494",
   "metadata": {},
   "outputs": [
    {
     "data": {
      "text/plain": [
       "104"
      ]
     },
     "execution_count": 11,
     "metadata": {},
     "output_type": "execute_result"
    }
   ],
   "source": [
    "len(blackUniversities)"
   ]
  },
  {
   "cell_type": "markdown",
   "id": "08e65df2",
   "metadata": {},
   "source": [
    "It is important to filter NA values from the list of organizations"
   ]
  },
  {
   "cell_type": "code",
   "execution_count": 12,
   "id": "f63128df",
   "metadata": {},
   "outputs": [],
   "source": [
    "cleanGrants ['facility_type'] = np.where(cleanGrants['ORG_NAME'].isin(blackUniversities), 'HBCU', 'Non-HBCU')"
   ]
  },
  {
   "cell_type": "code",
   "execution_count": 13,
   "id": "ea5076a5",
   "metadata": {},
   "outputs": [
    {
     "data": {
      "text/plain": [
       "Non-HBCU    126669\n",
       "HBCU           444\n",
       "Name: facility_type, dtype: int64"
      ]
     },
     "execution_count": 13,
     "metadata": {},
     "output_type": "execute_result"
    }
   ],
   "source": [
    "#Filtering for non-HBCUs institutions \n",
    "cleanGrants.facility_type.value_counts()\n"
   ]
  },
  {
   "cell_type": "code",
   "execution_count": 14,
   "id": "ecb2b75c",
   "metadata": {},
   "outputs": [],
   "source": [
    "# Converting the start and end columns into datetime to aid in visualization where necessary\n",
    "cleanGrants['PROJECT_START'] = pd.to_datetime(cleanGrants.PROJECT_START, format=\"%m/%d/%Y\")\n",
    "cleanGrants['PROJECT_END'] = pd.to_datetime(cleanGrants.PROJECT_START, format=\"%m/%d/%Y\")"
   ]
  },
  {
   "cell_type": "code",
   "execution_count": 15,
   "id": "bd7ec423",
   "metadata": {},
   "outputs": [],
   "source": [
    "HBCUOnly = cleanGrants[cleanGrants['facility_type'] == 'HBCU']"
   ]
  },
  {
   "cell_type": "code",
   "execution_count": 16,
   "id": "8fe83f2e",
   "metadata": {},
   "outputs": [
    {
     "data": {
      "text/plain": [
       "20"
      ]
     },
     "execution_count": 16,
     "metadata": {},
     "output_type": "execute_result"
    }
   ],
   "source": [
    "len(HBCUOnly.ORG_NAME.unique())"
   ]
  },
  {
   "cell_type": "code",
   "execution_count": 17,
   "id": "c86976bc",
   "metadata": {},
   "outputs": [
    {
     "data": {
      "text/plain": [
       "ADMINISTERING_IC            object\n",
       "ORG_NAME                    object\n",
       "ORG_STATE                   object\n",
       "PROJECT_START       datetime64[ns]\n",
       "PROJECT_END         datetime64[ns]\n",
       "TOTAL_COST                 float64\n",
       "facility_type               object\n",
       "dtype: object"
      ]
     },
     "execution_count": 17,
     "metadata": {},
     "output_type": "execute_result"
    }
   ],
   "source": [
    "cleanGrants.dtypes"
   ]
  },
  {
   "cell_type": "code",
   "execution_count": 47,
   "id": "7c42a398",
   "metadata": {},
   "outputs": [
    {
     "data": {
      "text/plain": [
       "<AxesSubplot:title={'center':'Projects started peaked in the 2000s'}, xlabel='PROJECT_START'>"
      ]
     },
     "execution_count": 47,
     "metadata": {},
     "output_type": "execute_result"
    },
    {
     "data": {
      "image/png": "[encoded data removed]",
      "text/plain": [
       "<Figure size 432x288 with 1 Axes>"
      ]
     },
     "metadata": {
      "needs_background": "light"
     },
     "output_type": "display_data"
    }
   ],
   "source": [
    "cleanGrants.resample('Y', on='PROJECT_START').size() \\\n",
    "    .plot(title=\"Projects started peaked in the 2000s\")"
   ]
  },
  {
   "cell_type": "code",
   "execution_count": 48,
   "id": "4daebc4d",
   "metadata": {},
   "outputs": [
    {
     "data": {
      "text/plain": [
       "DataTransformerRegistry.enable('default')"
      ]
     },
     "execution_count": 48,
     "metadata": {},
     "output_type": "execute_result"
    }
   ],
   "source": [
    "alt.data_transformers.disable_max_rows()\n"
   ]
  },
  {
   "cell_type": "code",
   "execution_count": 49,
   "id": "04582f18",
   "metadata": {},
   "outputs": [
    {
     "data": {
      "text/plain": [
       "facility_type\n",
       "HBCU          50186842.0\n",
       "Non-HBCU   29813079827.0\n",
       "Name: TOTAL_COST, dtype: float64"
      ]
     },
     "execution_count": 49,
     "metadata": {},
     "output_type": "execute_result"
    }
   ],
   "source": [
    "cleanGrants.groupby(by='facility_type').TOTAL_COST.sum()"
   ]
  },
  {
   "cell_type": "code",
   "execution_count": 23,
   "id": "ae6eb16d",
   "metadata": {},
   "outputs": [],
   "source": [
    "cleanGrants['Year'] = pd.to_datetime(cleanGrants.PROJECT_START, errors='coerce', format=\"%m/%d/%Y\").dt.strftime('%Y')\n"
   ]
  },
  {
   "cell_type": "code",
   "execution_count": 51,
   "id": "0c31a566",
   "metadata": {
    "scrolled": true
   },
   "outputs": [
    {
     "data": {
      "text/plain": [
       "facility_type\n",
       "HBCU          50186842.0\n",
       "Non-HBCU   29813079827.0\n",
       "Name: TOTAL_COST, dtype: float64"
      ]
     },
     "execution_count": 51,
     "metadata": {},
     "output_type": "execute_result"
    }
   ],
   "source": [
    "cleanGrants.groupby(by='facility_type').TOTAL_COST.sum()"
   ]
  },
  {
   "cell_type": "code",
   "execution_count": 60,
   "id": "d4fe105c",
   "metadata": {},
   "outputs": [
    {
     "data": {
      "text/html": [
       "<div>\n",
       "<style scoped>\n",
       "    .dataframe tbody tr th:only-of-type {\n",
       "        vertical-align: middle;\n",
       "    }\n",
       "\n",
       "    .dataframe tbody tr th {\n",
       "        vertical-align: top;\n",
       "    }\n",
       "\n",
       "    .dataframe thead th {\n",
       "        text-align: right;\n",
       "    }\n",
       "</style>\n",
       "<table border=\"1\" class=\"dataframe\">\n",
       "  <thead>\n",
       "    <tr style=\"text-align: right;\">\n",
       "      <th></th>\n",
       "      <th>TOTAL_COST</th>\n",
       "    </tr>\n",
       "    <tr>\n",
       "      <th>ORG_NAME</th>\n",
       "      <th></th>\n",
       "    </tr>\n",
       "  </thead>\n",
       "  <tbody>\n",
       "    <tr>\n",
       "      <th>BOWIE STATE UNIVERSITY</th>\n",
       "      <td>117243.0</td>\n",
       "    </tr>\n",
       "    <tr>\n",
       "      <th>DELAWARE STATE UNIVERSITY</th>\n",
       "      <td>134776.0</td>\n",
       "    </tr>\n",
       "    <tr>\n",
       "      <th>DILLARD UNIVERSITY</th>\n",
       "      <td>0.0</td>\n",
       "    </tr>\n",
       "    <tr>\n",
       "      <th>FISK UNIVERSITY</th>\n",
       "      <td>0.0</td>\n",
       "    </tr>\n",
       "    <tr>\n",
       "      <th>GRAMBLING STATE UNIVERSITY</th>\n",
       "      <td>1893783.0</td>\n",
       "    </tr>\n",
       "    <tr>\n",
       "      <th>HAMPTON UNIVERSITY</th>\n",
       "      <td>4757664.0</td>\n",
       "    </tr>\n",
       "    <tr>\n",
       "      <th>HOWARD UNIVERSITY</th>\n",
       "      <td>15971508.0</td>\n",
       "    </tr>\n",
       "    <tr>\n",
       "      <th>JACKSON STATE UNIVERSITY</th>\n",
       "      <td>1433273.0</td>\n",
       "    </tr>\n",
       "    <tr>\n",
       "      <th>MEHARRY MEDICAL COLLEGE</th>\n",
       "      <td>4864786.0</td>\n",
       "    </tr>\n",
       "    <tr>\n",
       "      <th>MOREHOUSE COLLEGE</th>\n",
       "      <td>5923202.0</td>\n",
       "    </tr>\n",
       "    <tr>\n",
       "      <th>MOREHOUSE SCHOOL OF MEDICINE</th>\n",
       "      <td>5461992.0</td>\n",
       "    </tr>\n",
       "    <tr>\n",
       "      <th>MORGAN STATE UNIVERSITY</th>\n",
       "      <td>2306427.0</td>\n",
       "    </tr>\n",
       "    <tr>\n",
       "      <th>SIMMONS COLLEGE</th>\n",
       "      <td>3656510.0</td>\n",
       "    </tr>\n",
       "    <tr>\n",
       "      <th>SOUTH CAROLINA STATE UNIVERSITY</th>\n",
       "      <td>112544.0</td>\n",
       "    </tr>\n",
       "    <tr>\n",
       "      <th>TALLADEGA COLLEGE</th>\n",
       "      <td>0.0</td>\n",
       "    </tr>\n",
       "    <tr>\n",
       "      <th>TENNESSEE STATE UNIVERSITY</th>\n",
       "      <td>2994491.0</td>\n",
       "    </tr>\n",
       "    <tr>\n",
       "      <th>TEXAS SOUTHERN UNIVERSITY</th>\n",
       "      <td>373474.0</td>\n",
       "    </tr>\n",
       "    <tr>\n",
       "      <th>TUSKEGEE UNIVERSITY</th>\n",
       "      <td>0.0</td>\n",
       "    </tr>\n",
       "    <tr>\n",
       "      <th>UNIVERSITY OF THE DISTRICT OF COLUMBIA</th>\n",
       "      <td>0.0</td>\n",
       "    </tr>\n",
       "    <tr>\n",
       "      <th>WINSTON-SALEM STATE UNIVERSITY</th>\n",
       "      <td>185169.0</td>\n",
       "    </tr>\n",
       "  </tbody>\n",
       "</table>\n",
       "</div>"
      ],
      "text/plain": [
       "                                        TOTAL_COST\n",
       "ORG_NAME                                          \n",
       "BOWIE STATE UNIVERSITY                    117243.0\n",
       "DELAWARE STATE UNIVERSITY                 134776.0\n",
       "DILLARD UNIVERSITY                             0.0\n",
       "FISK UNIVERSITY                                0.0\n",
       "GRAMBLING STATE UNIVERSITY               1893783.0\n",
       "HAMPTON UNIVERSITY                       4757664.0\n",
       "HOWARD UNIVERSITY                       15971508.0\n",
       "JACKSON STATE UNIVERSITY                 1433273.0\n",
       "MEHARRY MEDICAL COLLEGE                  4864786.0\n",
       "MOREHOUSE COLLEGE                        5923202.0\n",
       "MOREHOUSE SCHOOL OF MEDICINE             5461992.0\n",
       "MORGAN STATE UNIVERSITY                  2306427.0\n",
       "SIMMONS COLLEGE                          3656510.0\n",
       "SOUTH CAROLINA STATE UNIVERSITY           112544.0\n",
       "TALLADEGA COLLEGE                              0.0\n",
       "TENNESSEE STATE UNIVERSITY               2994491.0\n",
       "TEXAS SOUTHERN UNIVERSITY                 373474.0\n",
       "TUSKEGEE UNIVERSITY                            0.0\n",
       "UNIVERSITY OF THE DISTRICT OF COLUMBIA         0.0\n",
       "WINSTON-SALEM STATE UNIVERSITY            185169.0"
      ]
     },
     "execution_count": 60,
     "metadata": {},
     "output_type": "execute_result"
    }
   ],
   "source": [
    "blackUniversitiesGrants"
   ]
  },
  {
   "cell_type": "code",
   "execution_count": 83,
   "id": "25e39fe4",
   "metadata": {
    "scrolled": true
   },
   "outputs": [],
   "source": [
    "blackUniversitiesGrants = cleanGrants[cleanGrants.facility_type=='HBCU'].groupby(by='ORG_NAME').TOTAL_COST.sum().to_frame().reset_index()"
   ]
  },
  {
   "cell_type": "code",
   "execution_count": 84,
   "id": "ae386688",
   "metadata": {},
   "outputs": [],
   "source": [
    "blackUniversitiesGrants = blackUniversitiesGrants[blackUniversitiesGrants.TOTAL_COST > 0]"
   ]
  },
  {
   "cell_type": "code",
   "execution_count": 88,
   "id": "19c75f82",
   "metadata": {},
   "outputs": [],
   "source": [
    "blackUniversitiesGrants.to_csv('blackgrants.csv', index=False)"
   ]
  },
  {
   "cell_type": "code",
   "execution_count": 86,
   "id": "dcc69bce",
   "metadata": {
    "scrolled": true
   },
   "outputs": [
    {
     "data": {
      "text/html": [
       "\n",
       "<div id=\"altair-viz-592d83920cc84cdba962d5fd07d70c37\"></div>\n",
       "<script type=\"text/javascript\">\n",
       "  var VEGA_DEBUG = (typeof VEGA_DEBUG == \"undefined\") ? {} : VEGA_DEBUG;\n",
       "  (function(spec, embedOpt){\n",
       "    let outputDiv = document.currentScript.previousElementSibling;\n",
       "    if (outputDiv.id !== \"altair-viz-592d83920cc84cdba962d5fd07d70c37\") {\n",
       "      outputDiv = document.getElementById(\"altair-viz-592d83920cc84cdba962d5fd07d70c37\");\n",
       "    }\n",
       "    const paths = {\n",
       "      \"vega\": \"https://cdn.jsdelivr.net/npm//vega@5?noext\",\n",
       "      \"vega-lib\": \"https://cdn.jsdelivr.net/npm//vega-lib?noext\",\n",
       "      \"vega-lite\": \"https://cdn.jsdelivr.net/npm//vega-lite@4.17.0?noext\",\n",
       "      \"vega-embed\": \"https://cdn.jsdelivr.net/npm//vega-embed@6?noext\",\n",
       "    };\n",
       "\n",
       "    function maybeLoadScript(lib, version) {\n",
       "      var key = `${lib.replace(\"-\", \"\")}_version`;\n",
       "      return (VEGA_DEBUG[key] == version) ?\n",
       "        Promise.resolve(paths[lib]) :\n",
       "        new Promise(function(resolve, reject) {\n",
       "          var s = document.createElement('script');\n",
       "          document.getElementsByTagName(\"head\")[0].appendChild(s);\n",
       "          s.async = true;\n",
       "          s.onload = () => {\n",
       "            VEGA_DEBUG[key] = version;\n",
       "            return resolve(paths[lib]);\n",
       "          };\n",
       "          s.onerror = () => reject(`Error loading script: ${paths[lib]}`);\n",
       "          s.src = paths[lib];\n",
       "        });\n",
       "    }\n",
       "\n",
       "    function showError(err) {\n",
       "      outputDiv.innerHTML = `<div class=\"error\" style=\"color:red;\">${err}</div>`;\n",
       "      throw err;\n",
       "    }\n",
       "\n",
       "    function displayChart(vegaEmbed) {\n",
       "      vegaEmbed(outputDiv, spec, embedOpt)\n",
       "        .catch(err => showError(`Javascript Error: ${err.message}<br>This usually means there's a typo in your chart specification. See the javascript console for the full traceback.`));\n",
       "    }\n",
       "\n",
       "    if(typeof define === \"function\" && define.amd) {\n",
       "      requirejs.config({paths});\n",
       "      require([\"vega-embed\"], displayChart, err => showError(`Error loading script: ${err.message}`));\n",
       "    } else {\n",
       "      maybeLoadScript(\"vega\", \"5\")\n",
       "        .then(() => maybeLoadScript(\"vega-lite\", \"4.17.0\"))\n",
       "        .then(() => maybeLoadScript(\"vega-embed\", \"6\"))\n",
       "        .catch(showError)\n",
       "        .then(() => displayChart(vegaEmbed));\n",
       "    }\n",
       "  })({\"config\": {\"view\": {\"continuousWidth\": 400, \"continuousHeight\": 300}}, \"data\": {\"name\": \"data-5bb61f8fe902bc142f1572ab9fa4154d\"}, \"mark\": \"bar\", \"encoding\": {\"x\": {\"field\": \"ORG_NAME\", \"type\": \"nominal\"}, \"y\": {\"field\": \"TOTAL_COST\", \"type\": \"quantitative\"}}, \"width\": 300, \"$schema\": \"https://vega.github.io/schema/vega-lite/v4.17.0.json\", \"datasets\": {\"data-5bb61f8fe902bc142f1572ab9fa4154d\": [{\"ORG_NAME\": \"BOWIE STATE UNIVERSITY\", \"TOTAL_COST\": 117243.0}, {\"ORG_NAME\": \"DELAWARE STATE UNIVERSITY\", \"TOTAL_COST\": 134776.0}, {\"ORG_NAME\": \"GRAMBLING STATE UNIVERSITY\", \"TOTAL_COST\": 1893783.0}, {\"ORG_NAME\": \"HAMPTON UNIVERSITY\", \"TOTAL_COST\": 4757664.0}, {\"ORG_NAME\": \"HOWARD UNIVERSITY\", \"TOTAL_COST\": 15971508.0}, {\"ORG_NAME\": \"JACKSON STATE UNIVERSITY\", \"TOTAL_COST\": 1433273.0}, {\"ORG_NAME\": \"MEHARRY MEDICAL COLLEGE\", \"TOTAL_COST\": 4864786.0}, {\"ORG_NAME\": \"MOREHOUSE COLLEGE\", \"TOTAL_COST\": 5923202.0}, {\"ORG_NAME\": \"MOREHOUSE SCHOOL OF MEDICINE\", \"TOTAL_COST\": 5461992.0}, {\"ORG_NAME\": \"MORGAN STATE UNIVERSITY\", \"TOTAL_COST\": 2306427.0}, {\"ORG_NAME\": \"SIMMONS COLLEGE\", \"TOTAL_COST\": 3656510.0}, {\"ORG_NAME\": \"SOUTH CAROLINA STATE UNIVERSITY\", \"TOTAL_COST\": 112544.0}, {\"ORG_NAME\": \"TENNESSEE STATE UNIVERSITY\", \"TOTAL_COST\": 2994491.0}, {\"ORG_NAME\": \"TEXAS SOUTHERN UNIVERSITY\", \"TOTAL_COST\": 373474.0}, {\"ORG_NAME\": \"WINSTON-SALEM STATE UNIVERSITY\", \"TOTAL_COST\": 185169.0}]}}, {\"mode\": \"vega-lite\"});\n",
       "</script>"
      ],
      "text/plain": [
       "alt.Chart(...)"
      ]
     },
     "execution_count": 86,
     "metadata": {},
     "output_type": "execute_result"
    }
   ],
   "source": [
    "alt.Chart(blackUniversitiesGrants).mark_bar().encode(\n",
    "    alt.X('ORG_NAME:N'),\n",
    "    alt.Y('TOTAL_COST:Q')\n",
    ").properties(\n",
    "    width=300\n",
    ")"
   ]
  },
  {
   "cell_type": "code",
   "execution_count": 87,
   "id": "63307fdd",
   "metadata": {},
   "outputs": [
    {
     "data": {
      "text/html": [
       "\n",
       "<div id=\"altair-viz-61bee9cc524246d6859946bcf97d51f2\"></div>\n",
       "<script type=\"text/javascript\">\n",
       "  var VEGA_DEBUG = (typeof VEGA_DEBUG == \"undefined\") ? {} : VEGA_DEBUG;\n",
       "  (function(spec, embedOpt){\n",
       "    let outputDiv = document.currentScript.previousElementSibling;\n",
       "    if (outputDiv.id !== \"altair-viz-61bee9cc524246d6859946bcf97d51f2\") {\n",
       "      outputDiv = document.getElementById(\"altair-viz-61bee9cc524246d6859946bcf97d51f2\");\n",
       "    }\n",
       "    const paths = {\n",
       "      \"vega\": \"https://cdn.jsdelivr.net/npm//vega@5?noext\",\n",
       "      \"vega-lib\": \"https://cdn.jsdelivr.net/npm//vega-lib?noext\",\n",
       "      \"vega-lite\": \"https://cdn.jsdelivr.net/npm//vega-lite@4.17.0?noext\",\n",
       "      \"vega-embed\": \"https://cdn.jsdelivr.net/npm//vega-embed@6?noext\",\n",
       "    };\n",
       "\n",
       "    function maybeLoadScript(lib, version) {\n",
       "      var key = `${lib.replace(\"-\", \"\")}_version`;\n",
       "      return (VEGA_DEBUG[key] == version) ?\n",
       "        Promise.resolve(paths[lib]) :\n",
       "        new Promise(function(resolve, reject) {\n",
       "          var s = document.createElement('script');\n",
       "          document.getElementsByTagName(\"head\")[0].appendChild(s);\n",
       "          s.async = true;\n",
       "          s.onload = () => {\n",
       "            VEGA_DEBUG[key] = version;\n",
       "            return resolve(paths[lib]);\n",
       "          };\n",
       "          s.onerror = () => reject(`Error loading script: ${paths[lib]}`);\n",
       "          s.src = paths[lib];\n",
       "        });\n",
       "    }\n",
       "\n",
       "    function showError(err) {\n",
       "      outputDiv.innerHTML = `<div class=\"error\" style=\"color:red;\">${err}</div>`;\n",
       "      throw err;\n",
       "    }\n",
       "\n",
       "    function displayChart(vegaEmbed) {\n",
       "      vegaEmbed(outputDiv, spec, embedOpt)\n",
       "        .catch(err => showError(`Javascript Error: ${err.message}<br>This usually means there's a typo in your chart specification. See the javascript console for the full traceback.`));\n",
       "    }\n",
       "\n",
       "    if(typeof define === \"function\" && define.amd) {\n",
       "      requirejs.config({paths});\n",
       "      require([\"vega-embed\"], displayChart, err => showError(`Error loading script: ${err.message}`));\n",
       "    } else {\n",
       "      maybeLoadScript(\"vega\", \"5\")\n",
       "        .then(() => maybeLoadScript(\"vega-lite\", \"4.17.0\"))\n",
       "        .then(() => maybeLoadScript(\"vega-embed\", \"6\"))\n",
       "        .catch(showError)\n",
       "        .then(() => displayChart(vegaEmbed));\n",
       "    }\n",
       "  })({\"config\": {\"view\": {\"continuousWidth\": 400, \"continuousHeight\": 300}}, \"data\": {\"name\": \"data-5bb61f8fe902bc142f1572ab9fa4154d\"}, \"mark\": \"bar\", \"encoding\": {\"x\": {\"field\": \"TOTAL_COST\", \"type\": \"quantitative\"}, \"y\": {\"field\": \"ORG_NAME\", \"type\": \"nominal\"}}, \"height\": 700, \"$schema\": \"https://vega.github.io/schema/vega-lite/v4.17.0.json\", \"datasets\": {\"data-5bb61f8fe902bc142f1572ab9fa4154d\": [{\"ORG_NAME\": \"BOWIE STATE UNIVERSITY\", \"TOTAL_COST\": 117243.0}, {\"ORG_NAME\": \"DELAWARE STATE UNIVERSITY\", \"TOTAL_COST\": 134776.0}, {\"ORG_NAME\": \"GRAMBLING STATE UNIVERSITY\", \"TOTAL_COST\": 1893783.0}, {\"ORG_NAME\": \"HAMPTON UNIVERSITY\", \"TOTAL_COST\": 4757664.0}, {\"ORG_NAME\": \"HOWARD UNIVERSITY\", \"TOTAL_COST\": 15971508.0}, {\"ORG_NAME\": \"JACKSON STATE UNIVERSITY\", \"TOTAL_COST\": 1433273.0}, {\"ORG_NAME\": \"MEHARRY MEDICAL COLLEGE\", \"TOTAL_COST\": 4864786.0}, {\"ORG_NAME\": \"MOREHOUSE COLLEGE\", \"TOTAL_COST\": 5923202.0}, {\"ORG_NAME\": \"MOREHOUSE SCHOOL OF MEDICINE\", \"TOTAL_COST\": 5461992.0}, {\"ORG_NAME\": \"MORGAN STATE UNIVERSITY\", \"TOTAL_COST\": 2306427.0}, {\"ORG_NAME\": \"SIMMONS COLLEGE\", \"TOTAL_COST\": 3656510.0}, {\"ORG_NAME\": \"SOUTH CAROLINA STATE UNIVERSITY\", \"TOTAL_COST\": 112544.0}, {\"ORG_NAME\": \"TENNESSEE STATE UNIVERSITY\", \"TOTAL_COST\": 2994491.0}, {\"ORG_NAME\": \"TEXAS SOUTHERN UNIVERSITY\", \"TOTAL_COST\": 373474.0}, {\"ORG_NAME\": \"WINSTON-SALEM STATE UNIVERSITY\", \"TOTAL_COST\": 185169.0}]}}, {\"mode\": \"vega-lite\"});\n",
       "</script>"
      ],
      "text/plain": [
       "alt.Chart(...)"
      ]
     },
     "execution_count": 87,
     "metadata": {},
     "output_type": "execute_result"
    }
   ],
   "source": [
    "alt.Chart(blackUniversitiesGrants).mark_bar().encode(\n",
    "    x='TOTAL_COST:Q',\n",
    "    y=\"ORG_NAME:N\"\n",
    ").properties(height=700)"
   ]
  },
  {
   "cell_type": "code",
   "execution_count": 24,
   "id": "ebb25f3a",
   "metadata": {},
   "outputs": [],
   "source": [
    "nimhFunding = cleanGrants.groupby(['Year', 'facility_type']).TOTAL_COST.sum().to_frame('funding_amount').reset_index()"
   ]
  },
  {
   "cell_type": "code",
   "execution_count": null,
   "id": "7c73e4ab",
   "metadata": {},
   "outputs": [],
   "source": []
  },
  {
   "cell_type": "code",
   "execution_count": 25,
   "id": "8a57c2dd",
   "metadata": {},
   "outputs": [],
   "source": [
    "nimhFunding = nimhFunding[nimhFunding['funding_amount'] > 0]"
   ]
  },
  {
   "cell_type": "code",
   "execution_count": 26,
   "id": "75bdecd3",
   "metadata": {},
   "outputs": [],
   "source": [
    "nimhFunding = nimhFunding[nimhFunding['Year'] >= '1990']"
   ]
  },
  {
   "cell_type": "code",
   "execution_count": 27,
   "id": "52559068",
   "metadata": {},
   "outputs": [],
   "source": [
    "pd.set_option('display.float_format', str)"
   ]
  },
  {
   "cell_type": "code",
   "execution_count": 28,
   "id": "683ef6c4",
   "metadata": {},
   "outputs": [
    {
     "data": {
      "text/plain": [
       "facility_type\n",
       "HBCU          34902823.0\n",
       "Non-HBCU   26142227409.0\n",
       "Name: funding_amount, dtype: float64"
      ]
     },
     "execution_count": 28,
     "metadata": {},
     "output_type": "execute_result"
    }
   ],
   "source": [
    "nimhFunding.groupby(by='facility_type').funding_amount.sum()"
   ]
  },
  {
   "cell_type": "code",
   "execution_count": 62,
   "id": "2b36aaa4",
   "metadata": {},
   "outputs": [
    {
     "data": {
      "text/html": [
       "\n",
       "<div id=\"altair-viz-55a16844661944898b0533fe2b49c684\"></div>\n",
       "<script type=\"text/javascript\">\n",
       "  var VEGA_DEBUG = (typeof VEGA_DEBUG == \"undefined\") ? {} : VEGA_DEBUG;\n",
       "  (function(spec, embedOpt){\n",
       "    let outputDiv = document.currentScript.previousElementSibling;\n",
       "    if (outputDiv.id !== \"altair-viz-55a16844661944898b0533fe2b49c684\") {\n",
       "      outputDiv = document.getElementById(\"altair-viz-55a16844661944898b0533fe2b49c684\");\n",
       "    }\n",
       "    const paths = {\n",
       "      \"vega\": \"https://cdn.jsdelivr.net/npm//vega@5?noext\",\n",
       "      \"vega-lib\": \"https://cdn.jsdelivr.net/npm//vega-lib?noext\",\n",
       "      \"vega-lite\": \"https://cdn.jsdelivr.net/npm//vega-lite@4.17.0?noext\",\n",
       "      \"vega-embed\": \"https://cdn.jsdelivr.net/npm//vega-embed@6?noext\",\n",
       "    };\n",
       "\n",
       "    function maybeLoadScript(lib, version) {\n",
       "      var key = `${lib.replace(\"-\", \"\")}_version`;\n",
       "      return (VEGA_DEBUG[key] == version) ?\n",
       "        Promise.resolve(paths[lib]) :\n",
       "        new Promise(function(resolve, reject) {\n",
       "          var s = document.createElement('script');\n",
       "          document.getElementsByTagName(\"head\")[0].appendChild(s);\n",
       "          s.async = true;\n",
       "          s.onload = () => {\n",
       "            VEGA_DEBUG[key] = version;\n",
       "            return resolve(paths[lib]);\n",
       "          };\n",
       "          s.onerror = () => reject(`Error loading script: ${paths[lib]}`);\n",
       "          s.src = paths[lib];\n",
       "        });\n",
       "    }\n",
       "\n",
       "    function showError(err) {\n",
       "      outputDiv.innerHTML = `<div class=\"error\" style=\"color:red;\">${err}</div>`;\n",
       "      throw err;\n",
       "    }\n",
       "\n",
       "    function displayChart(vegaEmbed) {\n",
       "      vegaEmbed(outputDiv, spec, embedOpt)\n",
       "        .catch(err => showError(`Javascript Error: ${err.message}<br>This usually means there's a typo in your chart specification. See the javascript console for the full traceback.`));\n",
       "    }\n",
       "\n",
       "    if(typeof define === \"function\" && define.amd) {\n",
       "      requirejs.config({paths});\n",
       "      require([\"vega-embed\"], displayChart, err => showError(`Error loading script: ${err.message}`));\n",
       "    } else {\n",
       "      maybeLoadScript(\"vega\", \"5\")\n",
       "        .then(() => maybeLoadScript(\"vega-lite\", \"4.17.0\"))\n",
       "        .then(() => maybeLoadScript(\"vega-embed\", \"6\"))\n",
       "        .catch(showError)\n",
       "        .then(() => displayChart(vegaEmbed));\n",
       "    }\n",
       "  })({\"config\": {\"view\": {\"continuousWidth\": 400, \"continuousHeight\": 300}}, \"data\": {\"name\": \"data-395fba9d5f760503452e6c5675f9d08e\"}, \"mark\": \"bar\", \"encoding\": {\"x\": {\"field\": \"facility_type\", \"type\": \"nominal\"}, \"y\": {\"field\": \"funding_amount\", \"type\": \"quantitative\"}}, \"width\": 300, \"$schema\": \"https://vega.github.io/schema/vega-lite/v4.17.0.json\", \"datasets\": {\"data-395fba9d5f760503452e6c5675f9d08e\": [{\"Year\": \"1990\", \"facility_type\": \"HBCU\", \"funding_amount\": 1071958.0}, {\"Year\": \"1990\", \"facility_type\": \"Non-HBCU\", \"funding_amount\": 173096583.0}, {\"Year\": \"1991\", \"facility_type\": \"Non-HBCU\", \"funding_amount\": 100311909.0}, {\"Year\": \"1992\", \"facility_type\": \"Non-HBCU\", \"funding_amount\": 167816076.0}, {\"Year\": \"1993\", \"facility_type\": \"HBCU\", \"funding_amount\": 210950.0}, {\"Year\": \"1993\", \"facility_type\": \"Non-HBCU\", \"funding_amount\": 196016227.0}, {\"Year\": \"1994\", \"facility_type\": \"Non-HBCU\", \"funding_amount\": 255875784.0}, {\"Year\": \"1995\", \"facility_type\": \"Non-HBCU\", \"funding_amount\": 249584989.0}, {\"Year\": \"1996\", \"facility_type\": \"HBCU\", \"funding_amount\": 2965858.0}, {\"Year\": \"1996\", \"facility_type\": \"Non-HBCU\", \"funding_amount\": 197724021.0}, {\"Year\": \"1997\", \"facility_type\": \"HBCU\", \"funding_amount\": 5120164.0}, {\"Year\": \"1997\", \"facility_type\": \"Non-HBCU\", \"funding_amount\": 416839744.0}, {\"Year\": \"1998\", \"facility_type\": \"HBCU\", \"funding_amount\": 1807072.0}, {\"Year\": \"1998\", \"facility_type\": \"Non-HBCU\", \"funding_amount\": 574612601.0}, {\"Year\": \"1999\", \"facility_type\": \"HBCU\", \"funding_amount\": 4897983.0}, {\"Year\": \"1999\", \"facility_type\": \"Non-HBCU\", \"funding_amount\": 916655458.0}, {\"Year\": \"2000\", \"facility_type\": \"HBCU\", \"funding_amount\": 247320.0}, {\"Year\": \"2000\", \"facility_type\": \"Non-HBCU\", \"funding_amount\": 1029523897.0}, {\"Year\": \"2001\", \"facility_type\": \"HBCU\", \"funding_amount\": 468972.0}, {\"Year\": \"2001\", \"facility_type\": \"Non-HBCU\", \"funding_amount\": 1234872456.0}, {\"Year\": \"2002\", \"facility_type\": \"HBCU\", \"funding_amount\": 4663809.0}, {\"Year\": \"2002\", \"facility_type\": \"Non-HBCU\", \"funding_amount\": 1146967021.0}, {\"Year\": \"2003\", \"facility_type\": \"Non-HBCU\", \"funding_amount\": 1240413299.0}, {\"Year\": \"2004\", \"facility_type\": \"HBCU\", \"funding_amount\": 3517521.0}, {\"Year\": \"2004\", \"facility_type\": \"Non-HBCU\", \"funding_amount\": 848881640.0}, {\"Year\": \"2005\", \"facility_type\": \"HBCU\", \"funding_amount\": 2026283.0}, {\"Year\": \"2005\", \"facility_type\": \"Non-HBCU\", \"funding_amount\": 852572988.0}, {\"Year\": \"2006\", \"facility_type\": \"HBCU\", \"funding_amount\": 1472018.0}, {\"Year\": \"2006\", \"facility_type\": \"Non-HBCU\", \"funding_amount\": 742042804.0}, {\"Year\": \"2007\", \"facility_type\": \"Non-HBCU\", \"funding_amount\": 1011720833.0}, {\"Year\": \"2008\", \"facility_type\": \"HBCU\", \"funding_amount\": 785530.0}, {\"Year\": \"2008\", \"facility_type\": \"Non-HBCU\", \"funding_amount\": 1225355518.0}, {\"Year\": \"2009\", \"facility_type\": \"HBCU\", \"funding_amount\": 33905.0}, {\"Year\": \"2009\", \"facility_type\": \"Non-HBCU\", \"funding_amount\": 1437269247.0}, {\"Year\": \"2010\", \"facility_type\": \"Non-HBCU\", \"funding_amount\": 1063159937.0}, {\"Year\": \"2011\", \"facility_type\": \"HBCU\", \"funding_amount\": 2791259.0}, {\"Year\": \"2011\", \"facility_type\": \"Non-HBCU\", \"funding_amount\": 783264808.0}, {\"Year\": \"2012\", \"facility_type\": \"HBCU\", \"funding_amount\": 390000.0}, {\"Year\": \"2012\", \"facility_type\": \"Non-HBCU\", \"funding_amount\": 1086515073.0}, {\"Year\": \"2013\", \"facility_type\": \"HBCU\", \"funding_amount\": 871746.0}, {\"Year\": \"2013\", \"facility_type\": \"Non-HBCU\", \"funding_amount\": 990211004.0}, {\"Year\": \"2014\", \"facility_type\": \"Non-HBCU\", \"funding_amount\": 1071446624.0}, {\"Year\": \"2015\", \"facility_type\": \"HBCU\", \"funding_amount\": 146178.0}, {\"Year\": \"2015\", \"facility_type\": \"Non-HBCU\", \"funding_amount\": 976512176.0}, {\"Year\": \"2016\", \"facility_type\": \"Non-HBCU\", \"funding_amount\": 1205270927.0}, {\"Year\": \"2017\", \"facility_type\": \"HBCU\", \"funding_amount\": 645592.0}, {\"Year\": \"2017\", \"facility_type\": \"Non-HBCU\", \"funding_amount\": 1547174423.0}, {\"Year\": \"2018\", \"facility_type\": \"HBCU\", \"funding_amount\": 326725.0}, {\"Year\": \"2018\", \"facility_type\": \"Non-HBCU\", \"funding_amount\": 1065826678.0}, {\"Year\": \"2019\", \"facility_type\": \"HBCU\", \"funding_amount\": 441980.0}, {\"Year\": \"2019\", \"facility_type\": \"Non-HBCU\", \"funding_amount\": 1088849451.0}, {\"Year\": \"2020\", \"facility_type\": \"Non-HBCU\", \"funding_amount\": 790335043.0}, {\"Year\": \"2021\", \"facility_type\": \"Non-HBCU\", \"funding_amount\": 455247427.0}, {\"Year\": \"2022\", \"facility_type\": \"Non-HBCU\", \"funding_amount\": 260743.0}]}}, {\"mode\": \"vega-lite\"});\n",
       "</script>"
      ],
      "text/plain": [
       "alt.Chart(...)"
      ]
     },
     "execution_count": 62,
     "metadata": {},
     "output_type": "execute_result"
    }
   ],
   "source": [
    "alt.Chart(nimhFunding).mark_bar().encode(\n",
    "    alt.X('facility_type:N'),\n",
    "    alt.Y('funding_amount:Q')\n",
    ").properties(\n",
    "    width=300\n",
    ")"
   ]
  },
  {
   "cell_type": "code",
   "execution_count": 30,
   "id": "c948eaf8",
   "metadata": {
    "scrolled": true
   },
   "outputs": [
    {
     "data": {
      "text/html": [
       "\n",
       "<div id=\"altair-viz-4e7c756f1a834134ae3bb9168566d247\"></div>\n",
       "<script type=\"text/javascript\">\n",
       "  var VEGA_DEBUG = (typeof VEGA_DEBUG == \"undefined\") ? {} : VEGA_DEBUG;\n",
       "  (function(spec, embedOpt){\n",
       "    let outputDiv = document.currentScript.previousElementSibling;\n",
       "    if (outputDiv.id !== \"altair-viz-4e7c756f1a834134ae3bb9168566d247\") {\n",
       "      outputDiv = document.getElementById(\"altair-viz-4e7c756f1a834134ae3bb9168566d247\");\n",
       "    }\n",
       "    const paths = {\n",
       "      \"vega\": \"https://cdn.jsdelivr.net/npm//vega@5?noext\",\n",
       "      \"vega-lib\": \"https://cdn.jsdelivr.net/npm//vega-lib?noext\",\n",
       "      \"vega-lite\": \"https://cdn.jsdelivr.net/npm//vega-lite@4.17.0?noext\",\n",
       "      \"vega-embed\": \"https://cdn.jsdelivr.net/npm//vega-embed@6?noext\",\n",
       "    };\n",
       "\n",
       "    function maybeLoadScript(lib, version) {\n",
       "      var key = `${lib.replace(\"-\", \"\")}_version`;\n",
       "      return (VEGA_DEBUG[key] == version) ?\n",
       "        Promise.resolve(paths[lib]) :\n",
       "        new Promise(function(resolve, reject) {\n",
       "          var s = document.createElement('script');\n",
       "          document.getElementsByTagName(\"head\")[0].appendChild(s);\n",
       "          s.async = true;\n",
       "          s.onload = () => {\n",
       "            VEGA_DEBUG[key] = version;\n",
       "            return resolve(paths[lib]);\n",
       "          };\n",
       "          s.onerror = () => reject(`Error loading script: ${paths[lib]}`);\n",
       "          s.src = paths[lib];\n",
       "        });\n",
       "    }\n",
       "\n",
       "    function showError(err) {\n",
       "      outputDiv.innerHTML = `<div class=\"error\" style=\"color:red;\">${err}</div>`;\n",
       "      throw err;\n",
       "    }\n",
       "\n",
       "    function displayChart(vegaEmbed) {\n",
       "      vegaEmbed(outputDiv, spec, embedOpt)\n",
       "        .catch(err => showError(`Javascript Error: ${err.message}<br>This usually means there's a typo in your chart specification. See the javascript console for the full traceback.`));\n",
       "    }\n",
       "\n",
       "    if(typeof define === \"function\" && define.amd) {\n",
       "      requirejs.config({paths});\n",
       "      require([\"vega-embed\"], displayChart, err => showError(`Error loading script: ${err.message}`));\n",
       "    } else {\n",
       "      maybeLoadScript(\"vega\", \"5\")\n",
       "        .then(() => maybeLoadScript(\"vega-lite\", \"4.17.0\"))\n",
       "        .then(() => maybeLoadScript(\"vega-embed\", \"6\"))\n",
       "        .catch(showError)\n",
       "        .then(() => displayChart(vegaEmbed));\n",
       "    }\n",
       "  })({\"config\": {\"view\": {\"continuousWidth\": 400, \"continuousHeight\": 300}}, \"data\": {\"name\": \"data-395fba9d5f760503452e6c5675f9d08e\"}, \"mark\": \"area\", \"encoding\": {\"color\": {\"field\": \"facility_type\", \"type\": \"nominal\"}, \"x\": {\"field\": \"Year\", \"type\": \"temporal\"}, \"y\": {\"field\": \"funding_amount\", \"type\": \"quantitative\"}}, \"$schema\": \"https://vega.github.io/schema/vega-lite/v4.17.0.json\", \"datasets\": {\"data-395fba9d5f760503452e6c5675f9d08e\": [{\"Year\": \"1990\", \"facility_type\": \"HBCU\", \"funding_amount\": 1071958.0}, {\"Year\": \"1990\", \"facility_type\": \"Non-HBCU\", \"funding_amount\": 173096583.0}, {\"Year\": \"1991\", \"facility_type\": \"Non-HBCU\", \"funding_amount\": 100311909.0}, {\"Year\": \"1992\", \"facility_type\": \"Non-HBCU\", \"funding_amount\": 167816076.0}, {\"Year\": \"1993\", \"facility_type\": \"HBCU\", \"funding_amount\": 210950.0}, {\"Year\": \"1993\", \"facility_type\": \"Non-HBCU\", \"funding_amount\": 196016227.0}, {\"Year\": \"1994\", \"facility_type\": \"Non-HBCU\", \"funding_amount\": 255875784.0}, {\"Year\": \"1995\", \"facility_type\": \"Non-HBCU\", \"funding_amount\": 249584989.0}, {\"Year\": \"1996\", \"facility_type\": \"HBCU\", \"funding_amount\": 2965858.0}, {\"Year\": \"1996\", \"facility_type\": \"Non-HBCU\", \"funding_amount\": 197724021.0}, {\"Year\": \"1997\", \"facility_type\": \"HBCU\", \"funding_amount\": 5120164.0}, {\"Year\": \"1997\", \"facility_type\": \"Non-HBCU\", \"funding_amount\": 416839744.0}, {\"Year\": \"1998\", \"facility_type\": \"HBCU\", \"funding_amount\": 1807072.0}, {\"Year\": \"1998\", \"facility_type\": \"Non-HBCU\", \"funding_amount\": 574612601.0}, {\"Year\": \"1999\", \"facility_type\": \"HBCU\", \"funding_amount\": 4897983.0}, {\"Year\": \"1999\", \"facility_type\": \"Non-HBCU\", \"funding_amount\": 916655458.0}, {\"Year\": \"2000\", \"facility_type\": \"HBCU\", \"funding_amount\": 247320.0}, {\"Year\": \"2000\", \"facility_type\": \"Non-HBCU\", \"funding_amount\": 1029523897.0}, {\"Year\": \"2001\", \"facility_type\": \"HBCU\", \"funding_amount\": 468972.0}, {\"Year\": \"2001\", \"facility_type\": \"Non-HBCU\", \"funding_amount\": 1234872456.0}, {\"Year\": \"2002\", \"facility_type\": \"HBCU\", \"funding_amount\": 4663809.0}, {\"Year\": \"2002\", \"facility_type\": \"Non-HBCU\", \"funding_amount\": 1146967021.0}, {\"Year\": \"2003\", \"facility_type\": \"Non-HBCU\", \"funding_amount\": 1240413299.0}, {\"Year\": \"2004\", \"facility_type\": \"HBCU\", \"funding_amount\": 3517521.0}, {\"Year\": \"2004\", \"facility_type\": \"Non-HBCU\", \"funding_amount\": 848881640.0}, {\"Year\": \"2005\", \"facility_type\": \"HBCU\", \"funding_amount\": 2026283.0}, {\"Year\": \"2005\", \"facility_type\": \"Non-HBCU\", \"funding_amount\": 852572988.0}, {\"Year\": \"2006\", \"facility_type\": \"HBCU\", \"funding_amount\": 1472018.0}, {\"Year\": \"2006\", \"facility_type\": \"Non-HBCU\", \"funding_amount\": 742042804.0}, {\"Year\": \"2007\", \"facility_type\": \"Non-HBCU\", \"funding_amount\": 1011720833.0}, {\"Year\": \"2008\", \"facility_type\": \"HBCU\", \"funding_amount\": 785530.0}, {\"Year\": \"2008\", \"facility_type\": \"Non-HBCU\", \"funding_amount\": 1225355518.0}, {\"Year\": \"2009\", \"facility_type\": \"HBCU\", \"funding_amount\": 33905.0}, {\"Year\": \"2009\", \"facility_type\": \"Non-HBCU\", \"funding_amount\": 1437269247.0}, {\"Year\": \"2010\", \"facility_type\": \"Non-HBCU\", \"funding_amount\": 1063159937.0}, {\"Year\": \"2011\", \"facility_type\": \"HBCU\", \"funding_amount\": 2791259.0}, {\"Year\": \"2011\", \"facility_type\": \"Non-HBCU\", \"funding_amount\": 783264808.0}, {\"Year\": \"2012\", \"facility_type\": \"HBCU\", \"funding_amount\": 390000.0}, {\"Year\": \"2012\", \"facility_type\": \"Non-HBCU\", \"funding_amount\": 1086515073.0}, {\"Year\": \"2013\", \"facility_type\": \"HBCU\", \"funding_amount\": 871746.0}, {\"Year\": \"2013\", \"facility_type\": \"Non-HBCU\", \"funding_amount\": 990211004.0}, {\"Year\": \"2014\", \"facility_type\": \"Non-HBCU\", \"funding_amount\": 1071446624.0}, {\"Year\": \"2015\", \"facility_type\": \"HBCU\", \"funding_amount\": 146178.0}, {\"Year\": \"2015\", \"facility_type\": \"Non-HBCU\", \"funding_amount\": 976512176.0}, {\"Year\": \"2016\", \"facility_type\": \"Non-HBCU\", \"funding_amount\": 1205270927.0}, {\"Year\": \"2017\", \"facility_type\": \"HBCU\", \"funding_amount\": 645592.0}, {\"Year\": \"2017\", \"facility_type\": \"Non-HBCU\", \"funding_amount\": 1547174423.0}, {\"Year\": \"2018\", \"facility_type\": \"HBCU\", \"funding_amount\": 326725.0}, {\"Year\": \"2018\", \"facility_type\": \"Non-HBCU\", \"funding_amount\": 1065826678.0}, {\"Year\": \"2019\", \"facility_type\": \"HBCU\", \"funding_amount\": 441980.0}, {\"Year\": \"2019\", \"facility_type\": \"Non-HBCU\", \"funding_amount\": 1088849451.0}, {\"Year\": \"2020\", \"facility_type\": \"Non-HBCU\", \"funding_amount\": 790335043.0}, {\"Year\": \"2021\", \"facility_type\": \"Non-HBCU\", \"funding_amount\": 455247427.0}, {\"Year\": \"2022\", \"facility_type\": \"Non-HBCU\", \"funding_amount\": 260743.0}]}}, {\"mode\": \"vega-lite\"});\n",
       "</script>"
      ],
      "text/plain": [
       "alt.Chart(...)"
      ]
     },
     "execution_count": 30,
     "metadata": {},
     "output_type": "execute_result"
    }
   ],
   "source": [
    "alt.Chart(nimhFunding).mark_area().encode(\n",
    "    x=\"Year:T\",\n",
    "    y=alt.Y(\"funding_amount:Q\"),\n",
    "    color=\"facility_type:N\"\n",
    ")"
   ]
  },
  {
   "cell_type": "code",
   "execution_count": 31,
   "id": "2ef99356",
   "metadata": {},
   "outputs": [
    {
     "data": {
      "text/html": [
       "\n",
       "<div id=\"altair-viz-a934166024d84287a21b6507f50b4da7\"></div>\n",
       "<script type=\"text/javascript\">\n",
       "  var VEGA_DEBUG = (typeof VEGA_DEBUG == \"undefined\") ? {} : VEGA_DEBUG;\n",
       "  (function(spec, embedOpt){\n",
       "    let outputDiv = document.currentScript.previousElementSibling;\n",
       "    if (outputDiv.id !== \"altair-viz-a934166024d84287a21b6507f50b4da7\") {\n",
       "      outputDiv = document.getElementById(\"altair-viz-a934166024d84287a21b6507f50b4da7\");\n",
       "    }\n",
       "    const paths = {\n",
       "      \"vega\": \"https://cdn.jsdelivr.net/npm//vega@5?noext\",\n",
       "      \"vega-lib\": \"https://cdn.jsdelivr.net/npm//vega-lib?noext\",\n",
       "      \"vega-lite\": \"https://cdn.jsdelivr.net/npm//vega-lite@4.17.0?noext\",\n",
       "      \"vega-embed\": \"https://cdn.jsdelivr.net/npm//vega-embed@6?noext\",\n",
       "    };\n",
       "\n",
       "    function maybeLoadScript(lib, version) {\n",
       "      var key = `${lib.replace(\"-\", \"\")}_version`;\n",
       "      return (VEGA_DEBUG[key] == version) ?\n",
       "        Promise.resolve(paths[lib]) :\n",
       "        new Promise(function(resolve, reject) {\n",
       "          var s = document.createElement('script');\n",
       "          document.getElementsByTagName(\"head\")[0].appendChild(s);\n",
       "          s.async = true;\n",
       "          s.onload = () => {\n",
       "            VEGA_DEBUG[key] = version;\n",
       "            return resolve(paths[lib]);\n",
       "          };\n",
       "          s.onerror = () => reject(`Error loading script: ${paths[lib]}`);\n",
       "          s.src = paths[lib];\n",
       "        });\n",
       "    }\n",
       "\n",
       "    function showError(err) {\n",
       "      outputDiv.innerHTML = `<div class=\"error\" style=\"color:red;\">${err}</div>`;\n",
       "      throw err;\n",
       "    }\n",
       "\n",
       "    function displayChart(vegaEmbed) {\n",
       "      vegaEmbed(outputDiv, spec, embedOpt)\n",
       "        .catch(err => showError(`Javascript Error: ${err.message}<br>This usually means there's a typo in your chart specification. See the javascript console for the full traceback.`));\n",
       "    }\n",
       "\n",
       "    if(typeof define === \"function\" && define.amd) {\n",
       "      requirejs.config({paths});\n",
       "      require([\"vega-embed\"], displayChart, err => showError(`Error loading script: ${err.message}`));\n",
       "    } else {\n",
       "      maybeLoadScript(\"vega\", \"5\")\n",
       "        .then(() => maybeLoadScript(\"vega-lite\", \"4.17.0\"))\n",
       "        .then(() => maybeLoadScript(\"vega-embed\", \"6\"))\n",
       "        .catch(showError)\n",
       "        .then(() => displayChart(vegaEmbed));\n",
       "    }\n",
       "  })({\"config\": {\"view\": {\"continuousWidth\": 400, \"continuousHeight\": 300}}, \"data\": {\"name\": \"data-395fba9d5f760503452e6c5675f9d08e\"}, \"mark\": \"bar\", \"encoding\": {\"color\": {\"field\": \"facility_type\", \"type\": \"nominal\"}, \"x\": {\"field\": \"Year\", \"type\": \"nominal\"}, \"y\": {\"field\": \"funding_amount\", \"type\": \"quantitative\"}}, \"transform\": [{\"fold\": [\"Non-HBCU\", \"HBCU\"]}], \"$schema\": \"https://vega.github.io/schema/vega-lite/v4.17.0.json\", \"datasets\": {\"data-395fba9d5f760503452e6c5675f9d08e\": [{\"Year\": \"1990\", \"facility_type\": \"HBCU\", \"funding_amount\": 1071958.0}, {\"Year\": \"1990\", \"facility_type\": \"Non-HBCU\", \"funding_amount\": 173096583.0}, {\"Year\": \"1991\", \"facility_type\": \"Non-HBCU\", \"funding_amount\": 100311909.0}, {\"Year\": \"1992\", \"facility_type\": \"Non-HBCU\", \"funding_amount\": 167816076.0}, {\"Year\": \"1993\", \"facility_type\": \"HBCU\", \"funding_amount\": 210950.0}, {\"Year\": \"1993\", \"facility_type\": \"Non-HBCU\", \"funding_amount\": 196016227.0}, {\"Year\": \"1994\", \"facility_type\": \"Non-HBCU\", \"funding_amount\": 255875784.0}, {\"Year\": \"1995\", \"facility_type\": \"Non-HBCU\", \"funding_amount\": 249584989.0}, {\"Year\": \"1996\", \"facility_type\": \"HBCU\", \"funding_amount\": 2965858.0}, {\"Year\": \"1996\", \"facility_type\": \"Non-HBCU\", \"funding_amount\": 197724021.0}, {\"Year\": \"1997\", \"facility_type\": \"HBCU\", \"funding_amount\": 5120164.0}, {\"Year\": \"1997\", \"facility_type\": \"Non-HBCU\", \"funding_amount\": 416839744.0}, {\"Year\": \"1998\", \"facility_type\": \"HBCU\", \"funding_amount\": 1807072.0}, {\"Year\": \"1998\", \"facility_type\": \"Non-HBCU\", \"funding_amount\": 574612601.0}, {\"Year\": \"1999\", \"facility_type\": \"HBCU\", \"funding_amount\": 4897983.0}, {\"Year\": \"1999\", \"facility_type\": \"Non-HBCU\", \"funding_amount\": 916655458.0}, {\"Year\": \"2000\", \"facility_type\": \"HBCU\", \"funding_amount\": 247320.0}, {\"Year\": \"2000\", \"facility_type\": \"Non-HBCU\", \"funding_amount\": 1029523897.0}, {\"Year\": \"2001\", \"facility_type\": \"HBCU\", \"funding_amount\": 468972.0}, {\"Year\": \"2001\", \"facility_type\": \"Non-HBCU\", \"funding_amount\": 1234872456.0}, {\"Year\": \"2002\", \"facility_type\": \"HBCU\", \"funding_amount\": 4663809.0}, {\"Year\": \"2002\", \"facility_type\": \"Non-HBCU\", \"funding_amount\": 1146967021.0}, {\"Year\": \"2003\", \"facility_type\": \"Non-HBCU\", \"funding_amount\": 1240413299.0}, {\"Year\": \"2004\", \"facility_type\": \"HBCU\", \"funding_amount\": 3517521.0}, {\"Year\": \"2004\", \"facility_type\": \"Non-HBCU\", \"funding_amount\": 848881640.0}, {\"Year\": \"2005\", \"facility_type\": \"HBCU\", \"funding_amount\": 2026283.0}, {\"Year\": \"2005\", \"facility_type\": \"Non-HBCU\", \"funding_amount\": 852572988.0}, {\"Year\": \"2006\", \"facility_type\": \"HBCU\", \"funding_amount\": 1472018.0}, {\"Year\": \"2006\", \"facility_type\": \"Non-HBCU\", \"funding_amount\": 742042804.0}, {\"Year\": \"2007\", \"facility_type\": \"Non-HBCU\", \"funding_amount\": 1011720833.0}, {\"Year\": \"2008\", \"facility_type\": \"HBCU\", \"funding_amount\": 785530.0}, {\"Year\": \"2008\", \"facility_type\": \"Non-HBCU\", \"funding_amount\": 1225355518.0}, {\"Year\": \"2009\", \"facility_type\": \"HBCU\", \"funding_amount\": 33905.0}, {\"Year\": \"2009\", \"facility_type\": \"Non-HBCU\", \"funding_amount\": 1437269247.0}, {\"Year\": \"2010\", \"facility_type\": \"Non-HBCU\", \"funding_amount\": 1063159937.0}, {\"Year\": \"2011\", \"facility_type\": \"HBCU\", \"funding_amount\": 2791259.0}, {\"Year\": \"2011\", \"facility_type\": \"Non-HBCU\", \"funding_amount\": 783264808.0}, {\"Year\": \"2012\", \"facility_type\": \"HBCU\", \"funding_amount\": 390000.0}, {\"Year\": \"2012\", \"facility_type\": \"Non-HBCU\", \"funding_amount\": 1086515073.0}, {\"Year\": \"2013\", \"facility_type\": \"HBCU\", \"funding_amount\": 871746.0}, {\"Year\": \"2013\", \"facility_type\": \"Non-HBCU\", \"funding_amount\": 990211004.0}, {\"Year\": \"2014\", \"facility_type\": \"Non-HBCU\", \"funding_amount\": 1071446624.0}, {\"Year\": \"2015\", \"facility_type\": \"HBCU\", \"funding_amount\": 146178.0}, {\"Year\": \"2015\", \"facility_type\": \"Non-HBCU\", \"funding_amount\": 976512176.0}, {\"Year\": \"2016\", \"facility_type\": \"Non-HBCU\", \"funding_amount\": 1205270927.0}, {\"Year\": \"2017\", \"facility_type\": \"HBCU\", \"funding_amount\": 645592.0}, {\"Year\": \"2017\", \"facility_type\": \"Non-HBCU\", \"funding_amount\": 1547174423.0}, {\"Year\": \"2018\", \"facility_type\": \"HBCU\", \"funding_amount\": 326725.0}, {\"Year\": \"2018\", \"facility_type\": \"Non-HBCU\", \"funding_amount\": 1065826678.0}, {\"Year\": \"2019\", \"facility_type\": \"HBCU\", \"funding_amount\": 441980.0}, {\"Year\": \"2019\", \"facility_type\": \"Non-HBCU\", \"funding_amount\": 1088849451.0}, {\"Year\": \"2020\", \"facility_type\": \"Non-HBCU\", \"funding_amount\": 790335043.0}, {\"Year\": \"2021\", \"facility_type\": \"Non-HBCU\", \"funding_amount\": 455247427.0}, {\"Year\": \"2022\", \"facility_type\": \"Non-HBCU\", \"funding_amount\": 260743.0}]}}, {\"mode\": \"vega-lite\"});\n",
       "</script>"
      ],
      "text/plain": [
       "alt.Chart(...)"
      ]
     },
     "execution_count": 31,
     "metadata": {},
     "output_type": "execute_result"
    }
   ],
   "source": [
    "alt.Chart(nimhFunding).transform_fold(['Non-HBCU', 'HBCU']).mark_bar().encode(\n",
    "  x='Year:N',\n",
    "  y='funding_amount:Q',\n",
    "  color='facility_type:N')"
   ]
  },
  {
   "cell_type": "code",
   "execution_count": 32,
   "id": "ebe9367b",
   "metadata": {
    "scrolled": true
   },
   "outputs": [
    {
     "data": {
      "text/html": [
       "\n",
       "<div id=\"altair-viz-504c61a48bee4cfa8053b326337fdd4a\"></div>\n",
       "<script type=\"text/javascript\">\n",
       "  var VEGA_DEBUG = (typeof VEGA_DEBUG == \"undefined\") ? {} : VEGA_DEBUG;\n",
       "  (function(spec, embedOpt){\n",
       "    let outputDiv = document.currentScript.previousElementSibling;\n",
       "    if (outputDiv.id !== \"altair-viz-504c61a48bee4cfa8053b326337fdd4a\") {\n",
       "      outputDiv = document.getElementById(\"altair-viz-504c61a48bee4cfa8053b326337fdd4a\");\n",
       "    }\n",
       "    const paths = {\n",
       "      \"vega\": \"https://cdn.jsdelivr.net/npm//vega@5?noext\",\n",
       "      \"vega-lib\": \"https://cdn.jsdelivr.net/npm//vega-lib?noext\",\n",
       "      \"vega-lite\": \"https://cdn.jsdelivr.net/npm//vega-lite@4.17.0?noext\",\n",
       "      \"vega-embed\": \"https://cdn.jsdelivr.net/npm//vega-embed@6?noext\",\n",
       "    };\n",
       "\n",
       "    function maybeLoadScript(lib, version) {\n",
       "      var key = `${lib.replace(\"-\", \"\")}_version`;\n",
       "      return (VEGA_DEBUG[key] == version) ?\n",
       "        Promise.resolve(paths[lib]) :\n",
       "        new Promise(function(resolve, reject) {\n",
       "          var s = document.createElement('script');\n",
       "          document.getElementsByTagName(\"head\")[0].appendChild(s);\n",
       "          s.async = true;\n",
       "          s.onload = () => {\n",
       "            VEGA_DEBUG[key] = version;\n",
       "            return resolve(paths[lib]);\n",
       "          };\n",
       "          s.onerror = () => reject(`Error loading script: ${paths[lib]}`);\n",
       "          s.src = paths[lib];\n",
       "        });\n",
       "    }\n",
       "\n",
       "    function showError(err) {\n",
       "      outputDiv.innerHTML = `<div class=\"error\" style=\"color:red;\">${err}</div>`;\n",
       "      throw err;\n",
       "    }\n",
       "\n",
       "    function displayChart(vegaEmbed) {\n",
       "      vegaEmbed(outputDiv, spec, embedOpt)\n",
       "        .catch(err => showError(`Javascript Error: ${err.message}<br>This usually means there's a typo in your chart specification. See the javascript console for the full traceback.`));\n",
       "    }\n",
       "\n",
       "    if(typeof define === \"function\" && define.amd) {\n",
       "      requirejs.config({paths});\n",
       "      require([\"vega-embed\"], displayChart, err => showError(`Error loading script: ${err.message}`));\n",
       "    } else {\n",
       "      maybeLoadScript(\"vega\", \"5\")\n",
       "        .then(() => maybeLoadScript(\"vega-lite\", \"4.17.0\"))\n",
       "        .then(() => maybeLoadScript(\"vega-embed\", \"6\"))\n",
       "        .catch(showError)\n",
       "        .then(() => displayChart(vegaEmbed));\n",
       "    }\n",
       "  })({\"config\": {\"view\": {\"continuousWidth\": 400, \"continuousHeight\": 300}}, \"data\": {\"name\": \"data-395fba9d5f760503452e6c5675f9d08e\"}, \"mark\": \"area\", \"encoding\": {\"color\": {\"field\": \"facility_type\", \"type\": \"nominal\"}, \"x\": {\"field\": \"Year\", \"type\": \"ordinal\"}, \"y\": {\"field\": \"funding_amount\", \"stack\": \"center\", \"type\": \"quantitative\"}}, \"$schema\": \"https://vega.github.io/schema/vega-lite/v4.17.0.json\", \"datasets\": {\"data-395fba9d5f760503452e6c5675f9d08e\": [{\"Year\": \"1990\", \"facility_type\": \"HBCU\", \"funding_amount\": 1071958.0}, {\"Year\": \"1990\", \"facility_type\": \"Non-HBCU\", \"funding_amount\": 173096583.0}, {\"Year\": \"1991\", \"facility_type\": \"Non-HBCU\", \"funding_amount\": 100311909.0}, {\"Year\": \"1992\", \"facility_type\": \"Non-HBCU\", \"funding_amount\": 167816076.0}, {\"Year\": \"1993\", \"facility_type\": \"HBCU\", \"funding_amount\": 210950.0}, {\"Year\": \"1993\", \"facility_type\": \"Non-HBCU\", \"funding_amount\": 196016227.0}, {\"Year\": \"1994\", \"facility_type\": \"Non-HBCU\", \"funding_amount\": 255875784.0}, {\"Year\": \"1995\", \"facility_type\": \"Non-HBCU\", \"funding_amount\": 249584989.0}, {\"Year\": \"1996\", \"facility_type\": \"HBCU\", \"funding_amount\": 2965858.0}, {\"Year\": \"1996\", \"facility_type\": \"Non-HBCU\", \"funding_amount\": 197724021.0}, {\"Year\": \"1997\", \"facility_type\": \"HBCU\", \"funding_amount\": 5120164.0}, {\"Year\": \"1997\", \"facility_type\": \"Non-HBCU\", \"funding_amount\": 416839744.0}, {\"Year\": \"1998\", \"facility_type\": \"HBCU\", \"funding_amount\": 1807072.0}, {\"Year\": \"1998\", \"facility_type\": \"Non-HBCU\", \"funding_amount\": 574612601.0}, {\"Year\": \"1999\", \"facility_type\": \"HBCU\", \"funding_amount\": 4897983.0}, {\"Year\": \"1999\", \"facility_type\": \"Non-HBCU\", \"funding_amount\": 916655458.0}, {\"Year\": \"2000\", \"facility_type\": \"HBCU\", \"funding_amount\": 247320.0}, {\"Year\": \"2000\", \"facility_type\": \"Non-HBCU\", \"funding_amount\": 1029523897.0}, {\"Year\": \"2001\", \"facility_type\": \"HBCU\", \"funding_amount\": 468972.0}, {\"Year\": \"2001\", \"facility_type\": \"Non-HBCU\", \"funding_amount\": 1234872456.0}, {\"Year\": \"2002\", \"facility_type\": \"HBCU\", \"funding_amount\": 4663809.0}, {\"Year\": \"2002\", \"facility_type\": \"Non-HBCU\", \"funding_amount\": 1146967021.0}, {\"Year\": \"2003\", \"facility_type\": \"Non-HBCU\", \"funding_amount\": 1240413299.0}, {\"Year\": \"2004\", \"facility_type\": \"HBCU\", \"funding_amount\": 3517521.0}, {\"Year\": \"2004\", \"facility_type\": \"Non-HBCU\", \"funding_amount\": 848881640.0}, {\"Year\": \"2005\", \"facility_type\": \"HBCU\", \"funding_amount\": 2026283.0}, {\"Year\": \"2005\", \"facility_type\": \"Non-HBCU\", \"funding_amount\": 852572988.0}, {\"Year\": \"2006\", \"facility_type\": \"HBCU\", \"funding_amount\": 1472018.0}, {\"Year\": \"2006\", \"facility_type\": \"Non-HBCU\", \"funding_amount\": 742042804.0}, {\"Year\": \"2007\", \"facility_type\": \"Non-HBCU\", \"funding_amount\": 1011720833.0}, {\"Year\": \"2008\", \"facility_type\": \"HBCU\", \"funding_amount\": 785530.0}, {\"Year\": \"2008\", \"facility_type\": \"Non-HBCU\", \"funding_amount\": 1225355518.0}, {\"Year\": \"2009\", \"facility_type\": \"HBCU\", \"funding_amount\": 33905.0}, {\"Year\": \"2009\", \"facility_type\": \"Non-HBCU\", \"funding_amount\": 1437269247.0}, {\"Year\": \"2010\", \"facility_type\": \"Non-HBCU\", \"funding_amount\": 1063159937.0}, {\"Year\": \"2011\", \"facility_type\": \"HBCU\", \"funding_amount\": 2791259.0}, {\"Year\": \"2011\", \"facility_type\": \"Non-HBCU\", \"funding_amount\": 783264808.0}, {\"Year\": \"2012\", \"facility_type\": \"HBCU\", \"funding_amount\": 390000.0}, {\"Year\": \"2012\", \"facility_type\": \"Non-HBCU\", \"funding_amount\": 1086515073.0}, {\"Year\": \"2013\", \"facility_type\": \"HBCU\", \"funding_amount\": 871746.0}, {\"Year\": \"2013\", \"facility_type\": \"Non-HBCU\", \"funding_amount\": 990211004.0}, {\"Year\": \"2014\", \"facility_type\": \"Non-HBCU\", \"funding_amount\": 1071446624.0}, {\"Year\": \"2015\", \"facility_type\": \"HBCU\", \"funding_amount\": 146178.0}, {\"Year\": \"2015\", \"facility_type\": \"Non-HBCU\", \"funding_amount\": 976512176.0}, {\"Year\": \"2016\", \"facility_type\": \"Non-HBCU\", \"funding_amount\": 1205270927.0}, {\"Year\": \"2017\", \"facility_type\": \"HBCU\", \"funding_amount\": 645592.0}, {\"Year\": \"2017\", \"facility_type\": \"Non-HBCU\", \"funding_amount\": 1547174423.0}, {\"Year\": \"2018\", \"facility_type\": \"HBCU\", \"funding_amount\": 326725.0}, {\"Year\": \"2018\", \"facility_type\": \"Non-HBCU\", \"funding_amount\": 1065826678.0}, {\"Year\": \"2019\", \"facility_type\": \"HBCU\", \"funding_amount\": 441980.0}, {\"Year\": \"2019\", \"facility_type\": \"Non-HBCU\", \"funding_amount\": 1088849451.0}, {\"Year\": \"2020\", \"facility_type\": \"Non-HBCU\", \"funding_amount\": 790335043.0}, {\"Year\": \"2021\", \"facility_type\": \"Non-HBCU\", \"funding_amount\": 455247427.0}, {\"Year\": \"2022\", \"facility_type\": \"Non-HBCU\", \"funding_amount\": 260743.0}]}}, {\"mode\": \"vega-lite\"});\n",
       "</script>"
      ],
      "text/plain": [
       "alt.Chart(...)"
      ]
     },
     "execution_count": 32,
     "metadata": {},
     "output_type": "execute_result"
    }
   ],
   "source": [
    "alt.Chart(nimhFunding).mark_area().encode(\n",
    "    alt.X('Year:O'),\n",
    "    alt.Y('funding_amount:Q', stack='center'),\n",
    "    alt.Color('facility_type:N')\n",
    ")"
   ]
  },
  {
   "cell_type": "code",
   "execution_count": 45,
   "id": "06393a7c",
   "metadata": {},
   "outputs": [
    {
     "data": {
      "text/html": [
       "\n",
       "<div id=\"altair-viz-1e6d667bdaca445695934385a70a1630\"></div>\n",
       "<script type=\"text/javascript\">\n",
       "  var VEGA_DEBUG = (typeof VEGA_DEBUG == \"undefined\") ? {} : VEGA_DEBUG;\n",
       "  (function(spec, embedOpt){\n",
       "    let outputDiv = document.currentScript.previousElementSibling;\n",
       "    if (outputDiv.id !== \"altair-viz-1e6d667bdaca445695934385a70a1630\") {\n",
       "      outputDiv = document.getElementById(\"altair-viz-1e6d667bdaca445695934385a70a1630\");\n",
       "    }\n",
       "    const paths = {\n",
       "      \"vega\": \"https://cdn.jsdelivr.net/npm//vega@5?noext\",\n",
       "      \"vega-lib\": \"https://cdn.jsdelivr.net/npm//vega-lib?noext\",\n",
       "      \"vega-lite\": \"https://cdn.jsdelivr.net/npm//vega-lite@4.17.0?noext\",\n",
       "      \"vega-embed\": \"https://cdn.jsdelivr.net/npm//vega-embed@6?noext\",\n",
       "    };\n",
       "\n",
       "    function maybeLoadScript(lib, version) {\n",
       "      var key = `${lib.replace(\"-\", \"\")}_version`;\n",
       "      return (VEGA_DEBUG[key] == version) ?\n",
       "        Promise.resolve(paths[lib]) :\n",
       "        new Promise(function(resolve, reject) {\n",
       "          var s = document.createElement('script');\n",
       "          document.getElementsByTagName(\"head\")[0].appendChild(s);\n",
       "          s.async = true;\n",
       "          s.onload = () => {\n",
       "            VEGA_DEBUG[key] = version;\n",
       "            return resolve(paths[lib]);\n",
       "          };\n",
       "          s.onerror = () => reject(`Error loading script: ${paths[lib]}`);\n",
       "          s.src = paths[lib];\n",
       "        });\n",
       "    }\n",
       "\n",
       "    function showError(err) {\n",
       "      outputDiv.innerHTML = `<div class=\"error\" style=\"color:red;\">${err}</div>`;\n",
       "      throw err;\n",
       "    }\n",
       "\n",
       "    function displayChart(vegaEmbed) {\n",
       "      vegaEmbed(outputDiv, spec, embedOpt)\n",
       "        .catch(err => showError(`Javascript Error: ${err.message}<br>This usually means there's a typo in your chart specification. See the javascript console for the full traceback.`));\n",
       "    }\n",
       "\n",
       "    if(typeof define === \"function\" && define.amd) {\n",
       "      requirejs.config({paths});\n",
       "      require([\"vega-embed\"], displayChart, err => showError(`Error loading script: ${err.message}`));\n",
       "    } else {\n",
       "      maybeLoadScript(\"vega\", \"5\")\n",
       "        .then(() => maybeLoadScript(\"vega-lite\", \"4.17.0\"))\n",
       "        .then(() => maybeLoadScript(\"vega-embed\", \"6\"))\n",
       "        .catch(showError)\n",
       "        .then(() => displayChart(vegaEmbed));\n",
       "    }\n",
       "  })({\"config\": {\"view\": {\"continuousWidth\": 400, \"continuousHeight\": 300}}, \"data\": {\"name\": \"data-d70a178a86c1b712b40d8722399cf32f\"}, \"mark\": \"bar\", \"encoding\": {\"color\": {\"field\": \"facility_type\", \"type\": \"nominal\"}, \"x\": {\"field\": \"Year\", \"type\": \"nominal\"}, \"y\": {\"field\": \"funding_amount\", \"type\": \"quantitative\"}}, \"$schema\": \"https://vega.github.io/schema/vega-lite/v4.17.0.json\", \"datasets\": {\"data-d70a178a86c1b712b40d8722399cf32f\": [{\"Year\": \"1990\", \"facility_type\": \"HBCU\", \"funding_amount\": 1071958.0}, {\"Year\": \"1993\", \"facility_type\": \"HBCU\", \"funding_amount\": 210950.0}, {\"Year\": \"1996\", \"facility_type\": \"HBCU\", \"funding_amount\": 2965858.0}, {\"Year\": \"1997\", \"facility_type\": \"HBCU\", \"funding_amount\": 5120164.0}, {\"Year\": \"1998\", \"facility_type\": \"HBCU\", \"funding_amount\": 1807072.0}, {\"Year\": \"1999\", \"facility_type\": \"HBCU\", \"funding_amount\": 4897983.0}, {\"Year\": \"2000\", \"facility_type\": \"HBCU\", \"funding_amount\": 247320.0}, {\"Year\": \"2001\", \"facility_type\": \"HBCU\", \"funding_amount\": 468972.0}, {\"Year\": \"2002\", \"facility_type\": \"HBCU\", \"funding_amount\": 4663809.0}, {\"Year\": \"2004\", \"facility_type\": \"HBCU\", \"funding_amount\": 3517521.0}, {\"Year\": \"2005\", \"facility_type\": \"HBCU\", \"funding_amount\": 2026283.0}, {\"Year\": \"2006\", \"facility_type\": \"HBCU\", \"funding_amount\": 1472018.0}, {\"Year\": \"2008\", \"facility_type\": \"HBCU\", \"funding_amount\": 785530.0}, {\"Year\": \"2009\", \"facility_type\": \"HBCU\", \"funding_amount\": 33905.0}, {\"Year\": \"2011\", \"facility_type\": \"HBCU\", \"funding_amount\": 2791259.0}, {\"Year\": \"2012\", \"facility_type\": \"HBCU\", \"funding_amount\": 390000.0}, {\"Year\": \"2013\", \"facility_type\": \"HBCU\", \"funding_amount\": 871746.0}, {\"Year\": \"2015\", \"facility_type\": \"HBCU\", \"funding_amount\": 146178.0}, {\"Year\": \"2017\", \"facility_type\": \"HBCU\", \"funding_amount\": 645592.0}, {\"Year\": \"2018\", \"facility_type\": \"HBCU\", \"funding_amount\": 326725.0}, {\"Year\": \"2019\", \"facility_type\": \"HBCU\", \"funding_amount\": 441980.0}]}}, {\"mode\": \"vega-lite\"});\n",
       "</script>"
      ],
      "text/plain": [
       "alt.Chart(...)"
      ]
     },
     "execution_count": 45,
     "metadata": {},
     "output_type": "execute_result"
    }
   ],
   "source": [
    "alt.Chart(nimhFunding[nimhFunding.facility_type=='HBCU']).mark_bar().encode(\n",
    "  x='Year:N',\n",
    "  y='funding_amount:Q',\n",
    "  color='facility_type:N')"
   ]
  },
  {
   "cell_type": "code",
   "execution_count": 46,
   "id": "4046da7d",
   "metadata": {},
   "outputs": [
    {
     "data": {
      "text/html": [
       "\n",
       "<div id=\"altair-viz-b7a94e56251a4863b20781607a87881a\"></div>\n",
       "<script type=\"text/javascript\">\n",
       "  var VEGA_DEBUG = (typeof VEGA_DEBUG == \"undefined\") ? {} : VEGA_DEBUG;\n",
       "  (function(spec, embedOpt){\n",
       "    let outputDiv = document.currentScript.previousElementSibling;\n",
       "    if (outputDiv.id !== \"altair-viz-b7a94e56251a4863b20781607a87881a\") {\n",
       "      outputDiv = document.getElementById(\"altair-viz-b7a94e56251a4863b20781607a87881a\");\n",
       "    }\n",
       "    const paths = {\n",
       "      \"vega\": \"https://cdn.jsdelivr.net/npm//vega@5?noext\",\n",
       "      \"vega-lib\": \"https://cdn.jsdelivr.net/npm//vega-lib?noext\",\n",
       "      \"vega-lite\": \"https://cdn.jsdelivr.net/npm//vega-lite@4.17.0?noext\",\n",
       "      \"vega-embed\": \"https://cdn.jsdelivr.net/npm//vega-embed@6?noext\",\n",
       "    };\n",
       "\n",
       "    function maybeLoadScript(lib, version) {\n",
       "      var key = `${lib.replace(\"-\", \"\")}_version`;\n",
       "      return (VEGA_DEBUG[key] == version) ?\n",
       "        Promise.resolve(paths[lib]) :\n",
       "        new Promise(function(resolve, reject) {\n",
       "          var s = document.createElement('script');\n",
       "          document.getElementsByTagName(\"head\")[0].appendChild(s);\n",
       "          s.async = true;\n",
       "          s.onload = () => {\n",
       "            VEGA_DEBUG[key] = version;\n",
       "            return resolve(paths[lib]);\n",
       "          };\n",
       "          s.onerror = () => reject(`Error loading script: ${paths[lib]}`);\n",
       "          s.src = paths[lib];\n",
       "        });\n",
       "    }\n",
       "\n",
       "    function showError(err) {\n",
       "      outputDiv.innerHTML = `<div class=\"error\" style=\"color:red;\">${err}</div>`;\n",
       "      throw err;\n",
       "    }\n",
       "\n",
       "    function displayChart(vegaEmbed) {\n",
       "      vegaEmbed(outputDiv, spec, embedOpt)\n",
       "        .catch(err => showError(`Javascript Error: ${err.message}<br>This usually means there's a typo in your chart specification. See the javascript console for the full traceback.`));\n",
       "    }\n",
       "\n",
       "    if(typeof define === \"function\" && define.amd) {\n",
       "      requirejs.config({paths});\n",
       "      require([\"vega-embed\"], displayChart, err => showError(`Error loading script: ${err.message}`));\n",
       "    } else {\n",
       "      maybeLoadScript(\"vega\", \"5\")\n",
       "        .then(() => maybeLoadScript(\"vega-lite\", \"4.17.0\"))\n",
       "        .then(() => maybeLoadScript(\"vega-embed\", \"6\"))\n",
       "        .catch(showError)\n",
       "        .then(() => displayChart(vegaEmbed));\n",
       "    }\n",
       "  })({\"config\": {\"view\": {\"continuousWidth\": 400, \"continuousHeight\": 300}}, \"data\": {\"name\": \"data-0b78fce782c1d113d413769685596e40\"}, \"mark\": \"bar\", \"encoding\": {\"color\": {\"field\": \"facility_type\", \"type\": \"nominal\"}, \"x\": {\"field\": \"Year\", \"type\": \"nominal\"}, \"y\": {\"field\": \"funding_amount\", \"type\": \"quantitative\"}}, \"$schema\": \"https://vega.github.io/schema/vega-lite/v4.17.0.json\", \"datasets\": {\"data-0b78fce782c1d113d413769685596e40\": [{\"Year\": \"1990\", \"facility_type\": \"Non-HBCU\", \"funding_amount\": 173096583.0}, {\"Year\": \"1991\", \"facility_type\": \"Non-HBCU\", \"funding_amount\": 100311909.0}, {\"Year\": \"1992\", \"facility_type\": \"Non-HBCU\", \"funding_amount\": 167816076.0}, {\"Year\": \"1993\", \"facility_type\": \"Non-HBCU\", \"funding_amount\": 196016227.0}, {\"Year\": \"1994\", \"facility_type\": \"Non-HBCU\", \"funding_amount\": 255875784.0}, {\"Year\": \"1995\", \"facility_type\": \"Non-HBCU\", \"funding_amount\": 249584989.0}, {\"Year\": \"1996\", \"facility_type\": \"Non-HBCU\", \"funding_amount\": 197724021.0}, {\"Year\": \"1997\", \"facility_type\": \"Non-HBCU\", \"funding_amount\": 416839744.0}, {\"Year\": \"1998\", \"facility_type\": \"Non-HBCU\", \"funding_amount\": 574612601.0}, {\"Year\": \"1999\", \"facility_type\": \"Non-HBCU\", \"funding_amount\": 916655458.0}, {\"Year\": \"2000\", \"facility_type\": \"Non-HBCU\", \"funding_amount\": 1029523897.0}, {\"Year\": \"2001\", \"facility_type\": \"Non-HBCU\", \"funding_amount\": 1234872456.0}, {\"Year\": \"2002\", \"facility_type\": \"Non-HBCU\", \"funding_amount\": 1146967021.0}, {\"Year\": \"2003\", \"facility_type\": \"Non-HBCU\", \"funding_amount\": 1240413299.0}, {\"Year\": \"2004\", \"facility_type\": \"Non-HBCU\", \"funding_amount\": 848881640.0}, {\"Year\": \"2005\", \"facility_type\": \"Non-HBCU\", \"funding_amount\": 852572988.0}, {\"Year\": \"2006\", \"facility_type\": \"Non-HBCU\", \"funding_amount\": 742042804.0}, {\"Year\": \"2007\", \"facility_type\": \"Non-HBCU\", \"funding_amount\": 1011720833.0}, {\"Year\": \"2008\", \"facility_type\": \"Non-HBCU\", \"funding_amount\": 1225355518.0}, {\"Year\": \"2009\", \"facility_type\": \"Non-HBCU\", \"funding_amount\": 1437269247.0}, {\"Year\": \"2010\", \"facility_type\": \"Non-HBCU\", \"funding_amount\": 1063159937.0}, {\"Year\": \"2011\", \"facility_type\": \"Non-HBCU\", \"funding_amount\": 783264808.0}, {\"Year\": \"2012\", \"facility_type\": \"Non-HBCU\", \"funding_amount\": 1086515073.0}, {\"Year\": \"2013\", \"facility_type\": \"Non-HBCU\", \"funding_amount\": 990211004.0}, {\"Year\": \"2014\", \"facility_type\": \"Non-HBCU\", \"funding_amount\": 1071446624.0}, {\"Year\": \"2015\", \"facility_type\": \"Non-HBCU\", \"funding_amount\": 976512176.0}, {\"Year\": \"2016\", \"facility_type\": \"Non-HBCU\", \"funding_amount\": 1205270927.0}, {\"Year\": \"2017\", \"facility_type\": \"Non-HBCU\", \"funding_amount\": 1547174423.0}, {\"Year\": \"2018\", \"facility_type\": \"Non-HBCU\", \"funding_amount\": 1065826678.0}, {\"Year\": \"2019\", \"facility_type\": \"Non-HBCU\", \"funding_amount\": 1088849451.0}, {\"Year\": \"2020\", \"facility_type\": \"Non-HBCU\", \"funding_amount\": 790335043.0}, {\"Year\": \"2021\", \"facility_type\": \"Non-HBCU\", \"funding_amount\": 455247427.0}, {\"Year\": \"2022\", \"facility_type\": \"Non-HBCU\", \"funding_amount\": 260743.0}]}}, {\"mode\": \"vega-lite\"});\n",
       "</script>"
      ],
      "text/plain": [
       "alt.Chart(...)"
      ]
     },
     "execution_count": 46,
     "metadata": {},
     "output_type": "execute_result"
    }
   ],
   "source": [
    "alt.Chart(nimhFunding[nimhFunding.facility_type=='Non-HBCU']).mark_bar().encode(\n",
    "  x='Year:N',\n",
    "  y='funding_amount:Q',\n",
    "  color='facility_type:N')"
   ]
  },
  {
   "cell_type": "code",
   "execution_count": null,
   "id": "4e46c460",
   "metadata": {},
   "outputs": [],
   "source": []
  }
 ],
 "metadata": {
  "kernelspec": {
   "display_name": "Python 3 (ipykernel)",
   "language": "python",
   "name": "python3"
  },
  "language_info": {
   "codemirror_mode": {
    "name": "ipython",
    "version": 3
   },
   "file_extension": ".py",
   "mimetype": "text/x-python",
   "name": "python",
   "nbconvert_exporter": "python",
   "pygments_lexer": "ipython3",
   "version": "3.9.7"
  }
 },
 "nbformat": 4,
 "nbformat_minor": 5
}
